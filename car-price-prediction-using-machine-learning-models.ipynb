{
 "cells": [
  {
   "cell_type": "code",
   "execution_count": 1,
   "id": "5dbbec63",
   "metadata": {
    "execution": {
     "iopub.execute_input": "2024-10-05T17:05:21.603408Z",
     "iopub.status.busy": "2024-10-05T17:05:21.602960Z",
     "iopub.status.idle": "2024-10-05T17:05:26.462597Z",
     "shell.execute_reply": "2024-10-05T17:05:26.461423Z"
    },
    "papermill": {
     "duration": 4.878974,
     "end_time": "2024-10-05T17:05:26.465442",
     "exception": false,
     "start_time": "2024-10-05T17:05:21.586468",
     "status": "completed"
    },
    "tags": []
   },
   "outputs": [],
   "source": [
    "import numpy as np\n",
    "import matplotlib.pyplot as plt\n",
    "import seaborn as sns\n",
    "import pandas as pd\n",
    "import dask.dataframe as dd\n",
    "from sklearn.preprocessing import OneHotEncoder, LabelEncoder, StandardScaler\n",
    "from sklearn.model_selection import train_test_split\n",
    "from sklearn.linear_model import LinearRegression\n",
    "from sklearn.tree import DecisionTreeRegressor\n",
    "from sklearn.ensemble import RandomForestRegressor\n",
    "from sklearn.metrics import mean_squared_error, r2_score\n",
    "from sklearn.pipeline import Pipeline\n",
    "from sklearn.compose import ColumnTransformer"
   ]
  },
  {
   "cell_type": "markdown",
   "id": "82a866a0",
   "metadata": {
    "papermill": {
     "duration": 0.014156,
     "end_time": "2024-10-05T17:05:26.493938",
     "exception": false,
     "start_time": "2024-10-05T17:05:26.479782",
     "status": "completed"
    },
    "tags": []
   },
   "source": [
    "# **Data Undestanding**"
   ]
  },
  {
   "cell_type": "code",
   "execution_count": 2,
   "id": "7e9aa60c",
   "metadata": {
    "execution": {
     "iopub.execute_input": "2024-10-05T17:05:26.532508Z",
     "iopub.status.busy": "2024-10-05T17:05:26.530928Z",
     "iopub.status.idle": "2024-10-05T17:05:28.091411Z",
     "shell.execute_reply": "2024-10-05T17:05:28.090393Z"
    },
    "papermill": {
     "duration": 1.582985,
     "end_time": "2024-10-05T17:05:28.094301",
     "exception": false,
     "start_time": "2024-10-05T17:05:26.511316",
     "status": "completed"
    },
    "tags": []
   },
   "outputs": [
    {
     "data": {
      "text/html": [
       "<div>\n",
       "<style scoped>\n",
       "    .dataframe tbody tr th:only-of-type {\n",
       "        vertical-align: middle;\n",
       "    }\n",
       "\n",
       "    .dataframe tbody tr th {\n",
       "        vertical-align: top;\n",
       "    }\n",
       "\n",
       "    .dataframe thead th {\n",
       "        text-align: right;\n",
       "    }\n",
       "</style>\n",
       "<table border=\"1\" class=\"dataframe\">\n",
       "  <thead>\n",
       "    <tr style=\"text-align: right;\">\n",
       "      <th></th>\n",
       "      <th>id</th>\n",
       "      <th>brand</th>\n",
       "      <th>model</th>\n",
       "      <th>model_year</th>\n",
       "      <th>milage</th>\n",
       "      <th>fuel_type</th>\n",
       "      <th>engine</th>\n",
       "      <th>transmission</th>\n",
       "      <th>ext_col</th>\n",
       "      <th>int_col</th>\n",
       "      <th>accident</th>\n",
       "      <th>clean_title</th>\n",
       "      <th>price</th>\n",
       "    </tr>\n",
       "  </thead>\n",
       "  <tbody>\n",
       "    <tr>\n",
       "      <th>0</th>\n",
       "      <td>0</td>\n",
       "      <td>MINI</td>\n",
       "      <td>Cooper S Base</td>\n",
       "      <td>2007</td>\n",
       "      <td>213000</td>\n",
       "      <td>Gasoline</td>\n",
       "      <td>172.0HP 1.6L 4 Cylinder Engine Gasoline Fuel</td>\n",
       "      <td>A/T</td>\n",
       "      <td>Yellow</td>\n",
       "      <td>Gray</td>\n",
       "      <td>None reported</td>\n",
       "      <td>Yes</td>\n",
       "      <td>4200</td>\n",
       "    </tr>\n",
       "    <tr>\n",
       "      <th>1</th>\n",
       "      <td>1</td>\n",
       "      <td>Lincoln</td>\n",
       "      <td>LS V8</td>\n",
       "      <td>2002</td>\n",
       "      <td>143250</td>\n",
       "      <td>Gasoline</td>\n",
       "      <td>252.0HP 3.9L 8 Cylinder Engine Gasoline Fuel</td>\n",
       "      <td>A/T</td>\n",
       "      <td>Silver</td>\n",
       "      <td>Beige</td>\n",
       "      <td>At least 1 accident or damage reported</td>\n",
       "      <td>Yes</td>\n",
       "      <td>4999</td>\n",
       "    </tr>\n",
       "    <tr>\n",
       "      <th>2</th>\n",
       "      <td>2</td>\n",
       "      <td>Chevrolet</td>\n",
       "      <td>Silverado 2500 LT</td>\n",
       "      <td>2002</td>\n",
       "      <td>136731</td>\n",
       "      <td>E85 Flex Fuel</td>\n",
       "      <td>320.0HP 5.3L 8 Cylinder Engine Flex Fuel Capab...</td>\n",
       "      <td>A/T</td>\n",
       "      <td>Blue</td>\n",
       "      <td>Gray</td>\n",
       "      <td>None reported</td>\n",
       "      <td>Yes</td>\n",
       "      <td>13900</td>\n",
       "    </tr>\n",
       "    <tr>\n",
       "      <th>3</th>\n",
       "      <td>3</td>\n",
       "      <td>Genesis</td>\n",
       "      <td>G90 5.0 Ultimate</td>\n",
       "      <td>2017</td>\n",
       "      <td>19500</td>\n",
       "      <td>Gasoline</td>\n",
       "      <td>420.0HP 5.0L 8 Cylinder Engine Gasoline Fuel</td>\n",
       "      <td>Transmission w/Dual Shift Mode</td>\n",
       "      <td>Black</td>\n",
       "      <td>Black</td>\n",
       "      <td>None reported</td>\n",
       "      <td>Yes</td>\n",
       "      <td>45000</td>\n",
       "    </tr>\n",
       "    <tr>\n",
       "      <th>4</th>\n",
       "      <td>4</td>\n",
       "      <td>Mercedes-Benz</td>\n",
       "      <td>Metris Base</td>\n",
       "      <td>2021</td>\n",
       "      <td>7388</td>\n",
       "      <td>Gasoline</td>\n",
       "      <td>208.0HP 2.0L 4 Cylinder Engine Gasoline Fuel</td>\n",
       "      <td>7-Speed A/T</td>\n",
       "      <td>Black</td>\n",
       "      <td>Beige</td>\n",
       "      <td>None reported</td>\n",
       "      <td>Yes</td>\n",
       "      <td>97500</td>\n",
       "    </tr>\n",
       "    <tr>\n",
       "      <th>...</th>\n",
       "      <td>...</td>\n",
       "      <td>...</td>\n",
       "      <td>...</td>\n",
       "      <td>...</td>\n",
       "      <td>...</td>\n",
       "      <td>...</td>\n",
       "      <td>...</td>\n",
       "      <td>...</td>\n",
       "      <td>...</td>\n",
       "      <td>...</td>\n",
       "      <td>...</td>\n",
       "      <td>...</td>\n",
       "      <td>...</td>\n",
       "    </tr>\n",
       "    <tr>\n",
       "      <th>188528</th>\n",
       "      <td>188528</td>\n",
       "      <td>Cadillac</td>\n",
       "      <td>Escalade ESV Platinum</td>\n",
       "      <td>2017</td>\n",
       "      <td>49000</td>\n",
       "      <td>Gasoline</td>\n",
       "      <td>420.0HP 6.2L 8 Cylinder Engine Gasoline Fuel</td>\n",
       "      <td>Transmission w/Dual Shift Mode</td>\n",
       "      <td>White</td>\n",
       "      <td>Beige</td>\n",
       "      <td>None reported</td>\n",
       "      <td>Yes</td>\n",
       "      <td>27500</td>\n",
       "    </tr>\n",
       "    <tr>\n",
       "      <th>188529</th>\n",
       "      <td>188529</td>\n",
       "      <td>Mercedes-Benz</td>\n",
       "      <td>AMG C 43 AMG C 43 4MATIC</td>\n",
       "      <td>2018</td>\n",
       "      <td>28600</td>\n",
       "      <td>Gasoline</td>\n",
       "      <td>385.0HP 3.0L V6 Cylinder Engine Gasoline Fuel</td>\n",
       "      <td>8-Speed A/T</td>\n",
       "      <td>White</td>\n",
       "      <td>Black</td>\n",
       "      <td>At least 1 accident or damage reported</td>\n",
       "      <td>Yes</td>\n",
       "      <td>30000</td>\n",
       "    </tr>\n",
       "    <tr>\n",
       "      <th>188530</th>\n",
       "      <td>188530</td>\n",
       "      <td>Mercedes-Benz</td>\n",
       "      <td>AMG GLC 63 Base 4MATIC</td>\n",
       "      <td>2021</td>\n",
       "      <td>13650</td>\n",
       "      <td>Gasoline</td>\n",
       "      <td>469.0HP 4.0L 8 Cylinder Engine Gasoline Fuel</td>\n",
       "      <td>7-Speed A/T</td>\n",
       "      <td>White</td>\n",
       "      <td>Black</td>\n",
       "      <td>None reported</td>\n",
       "      <td>Yes</td>\n",
       "      <td>86900</td>\n",
       "    </tr>\n",
       "    <tr>\n",
       "      <th>188531</th>\n",
       "      <td>188531</td>\n",
       "      <td>Audi</td>\n",
       "      <td>S5 3.0T Prestige</td>\n",
       "      <td>2022</td>\n",
       "      <td>13895</td>\n",
       "      <td>Gasoline</td>\n",
       "      <td>3.0L</td>\n",
       "      <td>1-Speed Automatic</td>\n",
       "      <td>Daytona Gray Pearl Effect</td>\n",
       "      <td>Black</td>\n",
       "      <td>None reported</td>\n",
       "      <td>NaN</td>\n",
       "      <td>84900</td>\n",
       "    </tr>\n",
       "    <tr>\n",
       "      <th>188532</th>\n",
       "      <td>188532</td>\n",
       "      <td>Porsche</td>\n",
       "      <td>Macan Base</td>\n",
       "      <td>2016</td>\n",
       "      <td>59500</td>\n",
       "      <td>Gasoline</td>\n",
       "      <td>252.0HP 2.0L 4 Cylinder Engine Gasoline Fuel</td>\n",
       "      <td>Transmission w/Dual Shift Mode</td>\n",
       "      <td>White</td>\n",
       "      <td>Black</td>\n",
       "      <td>None reported</td>\n",
       "      <td>Yes</td>\n",
       "      <td>28995</td>\n",
       "    </tr>\n",
       "  </tbody>\n",
       "</table>\n",
       "<p>188533 rows × 13 columns</p>\n",
       "</div>"
      ],
      "text/plain": [
       "            id          brand                     model  model_year  milage  \\\n",
       "0            0           MINI             Cooper S Base        2007  213000   \n",
       "1            1        Lincoln                     LS V8        2002  143250   \n",
       "2            2      Chevrolet         Silverado 2500 LT        2002  136731   \n",
       "3            3        Genesis          G90 5.0 Ultimate        2017   19500   \n",
       "4            4  Mercedes-Benz               Metris Base        2021    7388   \n",
       "...        ...            ...                       ...         ...     ...   \n",
       "188528  188528       Cadillac     Escalade ESV Platinum        2017   49000   \n",
       "188529  188529  Mercedes-Benz  AMG C 43 AMG C 43 4MATIC        2018   28600   \n",
       "188530  188530  Mercedes-Benz    AMG GLC 63 Base 4MATIC        2021   13650   \n",
       "188531  188531           Audi          S5 3.0T Prestige        2022   13895   \n",
       "188532  188532        Porsche                Macan Base        2016   59500   \n",
       "\n",
       "            fuel_type                                             engine  \\\n",
       "0            Gasoline       172.0HP 1.6L 4 Cylinder Engine Gasoline Fuel   \n",
       "1            Gasoline       252.0HP 3.9L 8 Cylinder Engine Gasoline Fuel   \n",
       "2       E85 Flex Fuel  320.0HP 5.3L 8 Cylinder Engine Flex Fuel Capab...   \n",
       "3            Gasoline       420.0HP 5.0L 8 Cylinder Engine Gasoline Fuel   \n",
       "4            Gasoline       208.0HP 2.0L 4 Cylinder Engine Gasoline Fuel   \n",
       "...               ...                                                ...   \n",
       "188528       Gasoline       420.0HP 6.2L 8 Cylinder Engine Gasoline Fuel   \n",
       "188529       Gasoline      385.0HP 3.0L V6 Cylinder Engine Gasoline Fuel   \n",
       "188530       Gasoline       469.0HP 4.0L 8 Cylinder Engine Gasoline Fuel   \n",
       "188531       Gasoline                                               3.0L   \n",
       "188532       Gasoline       252.0HP 2.0L 4 Cylinder Engine Gasoline Fuel   \n",
       "\n",
       "                          transmission                    ext_col int_col  \\\n",
       "0                                  A/T                     Yellow    Gray   \n",
       "1                                  A/T                     Silver   Beige   \n",
       "2                                  A/T                       Blue    Gray   \n",
       "3       Transmission w/Dual Shift Mode                      Black   Black   \n",
       "4                          7-Speed A/T                      Black   Beige   \n",
       "...                                ...                        ...     ...   \n",
       "188528  Transmission w/Dual Shift Mode                      White   Beige   \n",
       "188529                     8-Speed A/T                      White   Black   \n",
       "188530                     7-Speed A/T                      White   Black   \n",
       "188531               1-Speed Automatic  Daytona Gray Pearl Effect   Black   \n",
       "188532  Transmission w/Dual Shift Mode                      White   Black   \n",
       "\n",
       "                                      accident clean_title  price  \n",
       "0                                None reported         Yes   4200  \n",
       "1       At least 1 accident or damage reported         Yes   4999  \n",
       "2                                None reported         Yes  13900  \n",
       "3                                None reported         Yes  45000  \n",
       "4                                None reported         Yes  97500  \n",
       "...                                        ...         ...    ...  \n",
       "188528                           None reported         Yes  27500  \n",
       "188529  At least 1 accident or damage reported         Yes  30000  \n",
       "188530                           None reported         Yes  86900  \n",
       "188531                           None reported         NaN  84900  \n",
       "188532                           None reported         Yes  28995  \n",
       "\n",
       "[188533 rows x 13 columns]"
      ]
     },
     "execution_count": 2,
     "metadata": {},
     "output_type": "execute_result"
    }
   ],
   "source": [
    "df_train = pd.read_csv('/kaggle/input/playground-series-s4e9/train.csv')\n",
    "df_test = pd.read_csv('/kaggle/input/playground-series-s4e9/test.csv')\n",
    "\n",
    "df_train "
   ]
  },
  {
   "cell_type": "code",
   "execution_count": 3,
   "id": "2ee042bf",
   "metadata": {
    "execution": {
     "iopub.execute_input": "2024-10-05T17:05:28.125458Z",
     "iopub.status.busy": "2024-10-05T17:05:28.125006Z",
     "iopub.status.idle": "2024-10-05T17:05:28.144643Z",
     "shell.execute_reply": "2024-10-05T17:05:28.143537Z"
    },
    "papermill": {
     "duration": 0.038035,
     "end_time": "2024-10-05T17:05:28.146949",
     "exception": false,
     "start_time": "2024-10-05T17:05:28.108914",
     "status": "completed"
    },
    "tags": []
   },
   "outputs": [
    {
     "data": {
      "text/html": [
       "<div>\n",
       "<style scoped>\n",
       "    .dataframe tbody tr th:only-of-type {\n",
       "        vertical-align: middle;\n",
       "    }\n",
       "\n",
       "    .dataframe tbody tr th {\n",
       "        vertical-align: top;\n",
       "    }\n",
       "\n",
       "    .dataframe thead th {\n",
       "        text-align: right;\n",
       "    }\n",
       "</style>\n",
       "<table border=\"1\" class=\"dataframe\">\n",
       "  <thead>\n",
       "    <tr style=\"text-align: right;\">\n",
       "      <th></th>\n",
       "      <th>id</th>\n",
       "      <th>brand</th>\n",
       "      <th>model</th>\n",
       "      <th>model_year</th>\n",
       "      <th>milage</th>\n",
       "      <th>fuel_type</th>\n",
       "      <th>engine</th>\n",
       "      <th>transmission</th>\n",
       "      <th>ext_col</th>\n",
       "      <th>int_col</th>\n",
       "      <th>accident</th>\n",
       "      <th>clean_title</th>\n",
       "    </tr>\n",
       "  </thead>\n",
       "  <tbody>\n",
       "    <tr>\n",
       "      <th>0</th>\n",
       "      <td>188533</td>\n",
       "      <td>Land</td>\n",
       "      <td>Rover LR2 Base</td>\n",
       "      <td>2015</td>\n",
       "      <td>98000</td>\n",
       "      <td>Gasoline</td>\n",
       "      <td>240.0HP 2.0L 4 Cylinder Engine Gasoline Fuel</td>\n",
       "      <td>6-Speed A/T</td>\n",
       "      <td>White</td>\n",
       "      <td>Beige</td>\n",
       "      <td>None reported</td>\n",
       "      <td>Yes</td>\n",
       "    </tr>\n",
       "    <tr>\n",
       "      <th>1</th>\n",
       "      <td>188534</td>\n",
       "      <td>Land</td>\n",
       "      <td>Rover Defender SE</td>\n",
       "      <td>2020</td>\n",
       "      <td>9142</td>\n",
       "      <td>Hybrid</td>\n",
       "      <td>395.0HP 3.0L Straight 6 Cylinder Engine Gasoli...</td>\n",
       "      <td>8-Speed A/T</td>\n",
       "      <td>Silver</td>\n",
       "      <td>Black</td>\n",
       "      <td>None reported</td>\n",
       "      <td>Yes</td>\n",
       "    </tr>\n",
       "    <tr>\n",
       "      <th>2</th>\n",
       "      <td>188535</td>\n",
       "      <td>Ford</td>\n",
       "      <td>Expedition Limited</td>\n",
       "      <td>2022</td>\n",
       "      <td>28121</td>\n",
       "      <td>Gasoline</td>\n",
       "      <td>3.5L V6 24V PDI DOHC Twin Turbo</td>\n",
       "      <td>10-Speed Automatic</td>\n",
       "      <td>White</td>\n",
       "      <td>Ebony</td>\n",
       "      <td>None reported</td>\n",
       "      <td>NaN</td>\n",
       "    </tr>\n",
       "    <tr>\n",
       "      <th>3</th>\n",
       "      <td>188536</td>\n",
       "      <td>Audi</td>\n",
       "      <td>A6 2.0T Sport</td>\n",
       "      <td>2016</td>\n",
       "      <td>61258</td>\n",
       "      <td>Gasoline</td>\n",
       "      <td>2.0 Liter TFSI</td>\n",
       "      <td>Automatic</td>\n",
       "      <td>Silician Yellow</td>\n",
       "      <td>Black</td>\n",
       "      <td>None reported</td>\n",
       "      <td>NaN</td>\n",
       "    </tr>\n",
       "    <tr>\n",
       "      <th>4</th>\n",
       "      <td>188537</td>\n",
       "      <td>Audi</td>\n",
       "      <td>A6 2.0T Premium Plus</td>\n",
       "      <td>2018</td>\n",
       "      <td>59000</td>\n",
       "      <td>Gasoline</td>\n",
       "      <td>252.0HP 2.0L 4 Cylinder Engine Gasoline Fuel</td>\n",
       "      <td>A/T</td>\n",
       "      <td>Gray</td>\n",
       "      <td>Black</td>\n",
       "      <td>None reported</td>\n",
       "      <td>Yes</td>\n",
       "    </tr>\n",
       "    <tr>\n",
       "      <th>...</th>\n",
       "      <td>...</td>\n",
       "      <td>...</td>\n",
       "      <td>...</td>\n",
       "      <td>...</td>\n",
       "      <td>...</td>\n",
       "      <td>...</td>\n",
       "      <td>...</td>\n",
       "      <td>...</td>\n",
       "      <td>...</td>\n",
       "      <td>...</td>\n",
       "      <td>...</td>\n",
       "      <td>...</td>\n",
       "    </tr>\n",
       "    <tr>\n",
       "      <th>125685</th>\n",
       "      <td>314218</td>\n",
       "      <td>Mercedes-Benz</td>\n",
       "      <td>GL-Class GL 450 4MATIC</td>\n",
       "      <td>2014</td>\n",
       "      <td>83315</td>\n",
       "      <td>Gasoline</td>\n",
       "      <td>362.0HP 3.0L V6 Cylinder Engine Gasoline Fuel</td>\n",
       "      <td>7-Speed A/T</td>\n",
       "      <td>Black</td>\n",
       "      <td>Black</td>\n",
       "      <td>None reported</td>\n",
       "      <td>Yes</td>\n",
       "    </tr>\n",
       "    <tr>\n",
       "      <th>125686</th>\n",
       "      <td>314219</td>\n",
       "      <td>Audi</td>\n",
       "      <td>Q7 55 Prestige</td>\n",
       "      <td>2019</td>\n",
       "      <td>29336</td>\n",
       "      <td>Gasoline</td>\n",
       "      <td>3.0 Liter Turbo</td>\n",
       "      <td>Automatic</td>\n",
       "      <td>White</td>\n",
       "      <td>Black</td>\n",
       "      <td>None reported</td>\n",
       "      <td>NaN</td>\n",
       "    </tr>\n",
       "    <tr>\n",
       "      <th>125687</th>\n",
       "      <td>314220</td>\n",
       "      <td>Audi</td>\n",
       "      <td>A6 3.0T Premium Plus</td>\n",
       "      <td>2012</td>\n",
       "      <td>77634</td>\n",
       "      <td>Gasoline</td>\n",
       "      <td>333.0HP 3.0L V6 Cylinder Engine Gasoline Fuel</td>\n",
       "      <td>A/T</td>\n",
       "      <td>Black</td>\n",
       "      <td>Black</td>\n",
       "      <td>None reported</td>\n",
       "      <td>Yes</td>\n",
       "    </tr>\n",
       "    <tr>\n",
       "      <th>125688</th>\n",
       "      <td>314221</td>\n",
       "      <td>Audi</td>\n",
       "      <td>Q7 3.0T Premium</td>\n",
       "      <td>2012</td>\n",
       "      <td>112000</td>\n",
       "      <td>Gasoline</td>\n",
       "      <td>333.0HP 3.0L V6 Cylinder Engine Gasoline Fuel</td>\n",
       "      <td>A/T</td>\n",
       "      <td>Black</td>\n",
       "      <td>Black</td>\n",
       "      <td>None reported</td>\n",
       "      <td>Yes</td>\n",
       "    </tr>\n",
       "    <tr>\n",
       "      <th>125689</th>\n",
       "      <td>314222</td>\n",
       "      <td>Chevrolet</td>\n",
       "      <td>Tahoe LT</td>\n",
       "      <td>2018</td>\n",
       "      <td>66840</td>\n",
       "      <td>Gasoline</td>\n",
       "      <td>355.0HP 5.3L 8 Cylinder Engine Gasoline Fuel</td>\n",
       "      <td>A/T</td>\n",
       "      <td>Silver</td>\n",
       "      <td>Black</td>\n",
       "      <td>None reported</td>\n",
       "      <td>Yes</td>\n",
       "    </tr>\n",
       "  </tbody>\n",
       "</table>\n",
       "<p>125690 rows × 12 columns</p>\n",
       "</div>"
      ],
      "text/plain": [
       "            id          brand                   model  model_year  milage  \\\n",
       "0       188533           Land          Rover LR2 Base        2015   98000   \n",
       "1       188534           Land       Rover Defender SE        2020    9142   \n",
       "2       188535           Ford      Expedition Limited        2022   28121   \n",
       "3       188536           Audi           A6 2.0T Sport        2016   61258   \n",
       "4       188537           Audi    A6 2.0T Premium Plus        2018   59000   \n",
       "...        ...            ...                     ...         ...     ...   \n",
       "125685  314218  Mercedes-Benz  GL-Class GL 450 4MATIC        2014   83315   \n",
       "125686  314219           Audi          Q7 55 Prestige        2019   29336   \n",
       "125687  314220           Audi    A6 3.0T Premium Plus        2012   77634   \n",
       "125688  314221           Audi         Q7 3.0T Premium        2012  112000   \n",
       "125689  314222      Chevrolet                Tahoe LT        2018   66840   \n",
       "\n",
       "       fuel_type                                             engine  \\\n",
       "0       Gasoline       240.0HP 2.0L 4 Cylinder Engine Gasoline Fuel   \n",
       "1         Hybrid  395.0HP 3.0L Straight 6 Cylinder Engine Gasoli...   \n",
       "2       Gasoline                    3.5L V6 24V PDI DOHC Twin Turbo   \n",
       "3       Gasoline                                     2.0 Liter TFSI   \n",
       "4       Gasoline       252.0HP 2.0L 4 Cylinder Engine Gasoline Fuel   \n",
       "...          ...                                                ...   \n",
       "125685  Gasoline      362.0HP 3.0L V6 Cylinder Engine Gasoline Fuel   \n",
       "125686  Gasoline                                    3.0 Liter Turbo   \n",
       "125687  Gasoline      333.0HP 3.0L V6 Cylinder Engine Gasoline Fuel   \n",
       "125688  Gasoline      333.0HP 3.0L V6 Cylinder Engine Gasoline Fuel   \n",
       "125689  Gasoline       355.0HP 5.3L 8 Cylinder Engine Gasoline Fuel   \n",
       "\n",
       "              transmission          ext_col int_col       accident clean_title  \n",
       "0              6-Speed A/T            White   Beige  None reported         Yes  \n",
       "1              8-Speed A/T           Silver   Black  None reported         Yes  \n",
       "2       10-Speed Automatic            White   Ebony  None reported         NaN  \n",
       "3                Automatic  Silician Yellow   Black  None reported         NaN  \n",
       "4                      A/T             Gray   Black  None reported         Yes  \n",
       "...                    ...              ...     ...            ...         ...  \n",
       "125685         7-Speed A/T            Black   Black  None reported         Yes  \n",
       "125686           Automatic            White   Black  None reported         NaN  \n",
       "125687                 A/T            Black   Black  None reported         Yes  \n",
       "125688                 A/T            Black   Black  None reported         Yes  \n",
       "125689                 A/T           Silver   Black  None reported         Yes  \n",
       "\n",
       "[125690 rows x 12 columns]"
      ]
     },
     "execution_count": 3,
     "metadata": {},
     "output_type": "execute_result"
    }
   ],
   "source": [
    "df_test"
   ]
  },
  {
   "cell_type": "code",
   "execution_count": 4,
   "id": "31ebb2fa",
   "metadata": {
    "execution": {
     "iopub.execute_input": "2024-10-05T17:05:28.178117Z",
     "iopub.status.busy": "2024-10-05T17:05:28.177221Z",
     "iopub.status.idle": "2024-10-05T17:05:28.924027Z",
     "shell.execute_reply": "2024-10-05T17:05:28.922705Z"
    },
    "papermill": {
     "duration": 0.766914,
     "end_time": "2024-10-05T17:05:28.928291",
     "exception": false,
     "start_time": "2024-10-05T17:05:28.161377",
     "status": "completed"
    },
    "tags": []
   },
   "outputs": [
    {
     "data": {
      "image/png": "[encoded data removed]",
      "text/plain": [
       "<Figure size 1200x600 with 1 Axes>"
      ]
     },
     "metadata": {},
     "output_type": "display_data"
    },
    {
     "name": "stdout",
     "output_type": "stream",
     "text": [
      "brand\n",
      "Ford             23088\n",
      "Mercedes-Benz    19172\n",
      "BMW              17028\n",
      "Chevrolet        16335\n",
      "Audi             10887\n",
      "Porsche          10612\n",
      "Land              9525\n",
      "Toyota            8850\n",
      "Lexus             8643\n",
      "Jeep              6474\n",
      "Cadillac          4674\n",
      "RAM               4249\n",
      "Nissan            3930\n",
      "Tesla             3738\n",
      "INFINITI          3276\n",
      "GMC               3215\n",
      "Dodge             3133\n",
      "Mazda             2719\n",
      "Kia               2497\n",
      "Lincoln           2423\n",
      "Subaru            2381\n",
      "Acura             2282\n",
      "Honda             2101\n",
      "Hyundai           2045\n",
      "Volkswagen        1765\n",
      "Jaguar            1319\n",
      "Bentley           1155\n",
      "MINI              1064\n",
      "Genesis            969\n",
      "Buick              940\n",
      "Maserati           939\n",
      "Lamborghini        809\n",
      "Chrysler           727\n",
      "Volvo              723\n",
      "Alfa               682\n",
      "Rivian             590\n",
      "Rolls-Royce        561\n",
      "Mitsubishi         551\n",
      "Pontiac            538\n",
      "Hummer             520\n",
      "Ferrari            359\n",
      "McLaren            243\n",
      "Aston              238\n",
      "Saturn             148\n",
      "Scion              120\n",
      "Lucid               69\n",
      "Mercury             57\n",
      "Lotus               52\n",
      "FIAT                44\n",
      "Saab                22\n",
      "Karma               17\n",
      "Suzuki               8\n",
      "Plymouth             7\n",
      "Bugatti              7\n",
      "Polestar             7\n",
      "smart                3\n",
      "Maybach              3\n",
      "Name: count, dtype: int64\n"
     ]
    }
   ],
   "source": [
    "# Count the number of occurrences of each brand\n",
    "brand_counts = df_train['brand'].value_counts()\n",
    "\n",
    "plt.figure(figsize=(12, 6))\n",
    "bars = plt.bar(brand_counts.index, brand_counts.values) # Use plt.bar for histograms\n",
    "plt.title('Brand Distribution')\n",
    "plt.xlabel('Brand')\n",
    "plt.ylabel('Amount')\n",
    "plt.xticks(rotation=90)\n",
    "\n",
    "plt.show()\n",
    "\n",
    "print(brand_counts)"
   ]
  },
  {
   "cell_type": "code",
   "execution_count": 5,
   "id": "c8919eec",
   "metadata": {
    "execution": {
     "iopub.execute_input": "2024-10-05T17:05:28.964532Z",
     "iopub.status.busy": "2024-10-05T17:05:28.963339Z",
     "iopub.status.idle": "2024-10-05T17:05:30.325958Z",
     "shell.execute_reply": "2024-10-05T17:05:30.324900Z"
    },
    "papermill": {
     "duration": 1.38377,
     "end_time": "2024-10-05T17:05:30.328582",
     "exception": false,
     "start_time": "2024-10-05T17:05:28.944812",
     "status": "completed"
    },
    "tags": []
   },
   "outputs": [
    {
     "name": "stderr",
     "output_type": "stream",
     "text": [
      "/opt/conda/lib/python3.10/site-packages/seaborn/_oldcore.py:1119: FutureWarning: use_inf_as_na option is deprecated and will be removed in a future version. Convert inf values to NaN before operating instead.\n",
      "  with pd.option_context('mode.use_inf_as_na', True):\n"
     ]
    },
    {
     "data": {
      "image/png": "[encoded data removed]",
      "text/plain": [
       "<Figure size 640x480 with 1 Axes>"
      ]
     },
     "metadata": {},
     "output_type": "display_data"
    }
   ],
   "source": [
    "sns.histplot(df_train['price'], bins=70, kde=True)\n",
    "plt.show()"
   ]
  },
  {
   "cell_type": "code",
   "execution_count": 6,
   "id": "ae96bbbc",
   "metadata": {
    "execution": {
     "iopub.execute_input": "2024-10-05T17:05:30.363784Z",
     "iopub.status.busy": "2024-10-05T17:05:30.362836Z",
     "iopub.status.idle": "2024-10-05T17:05:30.406517Z",
     "shell.execute_reply": "2024-10-05T17:05:30.405398Z"
    },
    "papermill": {
     "duration": 0.063944,
     "end_time": "2024-10-05T17:05:30.409122",
     "exception": false,
     "start_time": "2024-10-05T17:05:30.345178",
     "status": "completed"
    },
    "tags": []
   },
   "outputs": [
    {
     "data": {
      "text/html": [
       "<div>\n",
       "<style scoped>\n",
       "    .dataframe tbody tr th:only-of-type {\n",
       "        vertical-align: middle;\n",
       "    }\n",
       "\n",
       "    .dataframe tbody tr th {\n",
       "        vertical-align: top;\n",
       "    }\n",
       "\n",
       "    .dataframe thead th {\n",
       "        text-align: right;\n",
       "    }\n",
       "</style>\n",
       "<table border=\"1\" class=\"dataframe\">\n",
       "  <thead>\n",
       "    <tr style=\"text-align: right;\">\n",
       "      <th></th>\n",
       "      <th>id</th>\n",
       "      <th>model_year</th>\n",
       "      <th>milage</th>\n",
       "      <th>price</th>\n",
       "    </tr>\n",
       "  </thead>\n",
       "  <tbody>\n",
       "    <tr>\n",
       "      <th>count</th>\n",
       "      <td>188533.000000</td>\n",
       "      <td>188533.000000</td>\n",
       "      <td>188533.000000</td>\n",
       "      <td>1.885330e+05</td>\n",
       "    </tr>\n",
       "    <tr>\n",
       "      <th>mean</th>\n",
       "      <td>94266.000000</td>\n",
       "      <td>2015.829998</td>\n",
       "      <td>65705.295174</td>\n",
       "      <td>4.387802e+04</td>\n",
       "    </tr>\n",
       "    <tr>\n",
       "      <th>std</th>\n",
       "      <td>54424.933488</td>\n",
       "      <td>5.660967</td>\n",
       "      <td>49798.158076</td>\n",
       "      <td>7.881952e+04</td>\n",
       "    </tr>\n",
       "    <tr>\n",
       "      <th>min</th>\n",
       "      <td>0.000000</td>\n",
       "      <td>1974.000000</td>\n",
       "      <td>100.000000</td>\n",
       "      <td>2.000000e+03</td>\n",
       "    </tr>\n",
       "    <tr>\n",
       "      <th>25%</th>\n",
       "      <td>47133.000000</td>\n",
       "      <td>2013.000000</td>\n",
       "      <td>24115.000000</td>\n",
       "      <td>1.700000e+04</td>\n",
       "    </tr>\n",
       "    <tr>\n",
       "      <th>50%</th>\n",
       "      <td>94266.000000</td>\n",
       "      <td>2017.000000</td>\n",
       "      <td>57785.000000</td>\n",
       "      <td>3.082500e+04</td>\n",
       "    </tr>\n",
       "    <tr>\n",
       "      <th>75%</th>\n",
       "      <td>141399.000000</td>\n",
       "      <td>2020.000000</td>\n",
       "      <td>95400.000000</td>\n",
       "      <td>4.990000e+04</td>\n",
       "    </tr>\n",
       "    <tr>\n",
       "      <th>max</th>\n",
       "      <td>188532.000000</td>\n",
       "      <td>2024.000000</td>\n",
       "      <td>405000.000000</td>\n",
       "      <td>2.954083e+06</td>\n",
       "    </tr>\n",
       "  </tbody>\n",
       "</table>\n",
       "</div>"
      ],
      "text/plain": [
       "                  id     model_year         milage         price\n",
       "count  188533.000000  188533.000000  188533.000000  1.885330e+05\n",
       "mean    94266.000000    2015.829998   65705.295174  4.387802e+04\n",
       "std     54424.933488       5.660967   49798.158076  7.881952e+04\n",
       "min         0.000000    1974.000000     100.000000  2.000000e+03\n",
       "25%     47133.000000    2013.000000   24115.000000  1.700000e+04\n",
       "50%     94266.000000    2017.000000   57785.000000  3.082500e+04\n",
       "75%    141399.000000    2020.000000   95400.000000  4.990000e+04\n",
       "max    188532.000000    2024.000000  405000.000000  2.954083e+06"
      ]
     },
     "execution_count": 6,
     "metadata": {},
     "output_type": "execute_result"
    }
   ],
   "source": [
    "df_train.describe()"
   ]
  },
  {
   "cell_type": "code",
   "execution_count": 7,
   "id": "51031ea8",
   "metadata": {
    "execution": {
     "iopub.execute_input": "2024-10-05T17:05:30.444842Z",
     "iopub.status.busy": "2024-10-05T17:05:30.444005Z",
     "iopub.status.idle": "2024-10-05T17:05:30.637973Z",
     "shell.execute_reply": "2024-10-05T17:05:30.636588Z"
    },
    "papermill": {
     "duration": 0.214577,
     "end_time": "2024-10-05T17:05:30.640567",
     "exception": false,
     "start_time": "2024-10-05T17:05:30.425990",
     "status": "completed"
    },
    "tags": []
   },
   "outputs": [
    {
     "name": "stdout",
     "output_type": "stream",
     "text": [
      "<class 'pandas.core.frame.DataFrame'>\n",
      "RangeIndex: 188533 entries, 0 to 188532\n",
      "Data columns (total 13 columns):\n",
      " #   Column        Non-Null Count   Dtype \n",
      "---  ------        --------------   ----- \n",
      " 0   id            188533 non-null  int64 \n",
      " 1   brand         188533 non-null  object\n",
      " 2   model         188533 non-null  object\n",
      " 3   model_year    188533 non-null  int64 \n",
      " 4   milage        188533 non-null  int64 \n",
      " 5   fuel_type     183450 non-null  object\n",
      " 6   engine        188533 non-null  object\n",
      " 7   transmission  188533 non-null  object\n",
      " 8   ext_col       188533 non-null  object\n",
      " 9   int_col       188533 non-null  object\n",
      " 10  accident      186081 non-null  object\n",
      " 11  clean_title   167114 non-null  object\n",
      " 12  price         188533 non-null  int64 \n",
      "dtypes: int64(4), object(9)\n",
      "memory usage: 18.7+ MB\n"
     ]
    }
   ],
   "source": [
    "df_train.info()"
   ]
  },
  {
   "cell_type": "markdown",
   "id": "6ef925cb",
   "metadata": {
    "papermill": {
     "duration": 0.016779,
     "end_time": "2024-10-05T17:05:30.674430",
     "exception": false,
     "start_time": "2024-10-05T17:05:30.657651",
     "status": "completed"
    },
    "tags": []
   },
   "source": [
    "# **Preprocessing**"
   ]
  },
  {
   "cell_type": "code",
   "execution_count": 8,
   "id": "f3c9742b",
   "metadata": {
    "execution": {
     "iopub.execute_input": "2024-10-05T17:05:30.710615Z",
     "iopub.status.busy": "2024-10-05T17:05:30.709817Z",
     "iopub.status.idle": "2024-10-05T17:05:31.019967Z",
     "shell.execute_reply": "2024-10-05T17:05:31.018175Z"
    },
    "papermill": {
     "duration": 0.331117,
     "end_time": "2024-10-05T17:05:31.022583",
     "exception": false,
     "start_time": "2024-10-05T17:05:30.691466",
     "status": "completed"
    },
    "tags": []
   },
   "outputs": [
    {
     "name": "stdout",
     "output_type": "stream",
     "text": [
      "Missing values in training data:\n",
      " id                  0\n",
      "brand               0\n",
      "model               0\n",
      "model_year          0\n",
      "milage              0\n",
      "fuel_type        5083\n",
      "engine              0\n",
      "transmission        0\n",
      "ext_col             0\n",
      "int_col             0\n",
      "accident         2452\n",
      "clean_title     21419\n",
      "price               0\n",
      "dtype: int64\n",
      "\n",
      "Missing values in test data:\n",
      " id                  0\n",
      "brand               0\n",
      "model               0\n",
      "model_year          0\n",
      "milage              0\n",
      "fuel_type        3383\n",
      "engine              0\n",
      "transmission        0\n",
      "ext_col             0\n",
      "int_col             0\n",
      "accident         1632\n",
      "clean_title     14239\n",
      "dtype: int64\n"
     ]
    }
   ],
   "source": [
    "# Check for missing values\n",
    "missing_values_train = df_train.isnull().sum()\n",
    "print(\"Missing values in training data:\\n\", missing_values_train)\n",
    "\n",
    "missing_values_test = df_test.isnull().sum()\n",
    "print(\"\\nMissing values in test data:\\n\", missing_values_test)"
   ]
  },
  {
   "cell_type": "code",
   "execution_count": 9,
   "id": "d3c613da",
   "metadata": {
    "execution": {
     "iopub.execute_input": "2024-10-05T17:05:31.062451Z",
     "iopub.status.busy": "2024-10-05T17:05:31.061181Z",
     "iopub.status.idle": "2024-10-05T17:05:31.416405Z",
     "shell.execute_reply": "2024-10-05T17:05:31.415153Z"
    },
    "papermill": {
     "duration": 0.376863,
     "end_time": "2024-10-05T17:05:31.418855",
     "exception": false,
     "start_time": "2024-10-05T17:05:31.041992",
     "status": "completed"
    },
    "tags": []
   },
   "outputs": [
    {
     "name": "stdout",
     "output_type": "stream",
     "text": [
      "The amount of training data after removing missing values: 162610\n",
      "The amount of testing data after removing missing values: 108459\n"
     ]
    }
   ],
   "source": [
    "# Data Cleaning\n",
    "df_train.dropna(inplace=True)\n",
    "df_test.dropna(inplace=True)\n",
    "\n",
    "print(\"The amount of training data after removing missing values:\", len(df_train))\n",
    "print(\"The amount of testing data after removing missing values:\", len(df_test))\n"
   ]
  },
  {
   "cell_type": "code",
   "execution_count": 10,
   "id": "d5bfff6d",
   "metadata": {
    "execution": {
     "iopub.execute_input": "2024-10-05T17:05:31.455184Z",
     "iopub.status.busy": "2024-10-05T17:05:31.454204Z",
     "iopub.status.idle": "2024-10-05T17:05:33.866251Z",
     "shell.execute_reply": "2024-10-05T17:05:33.865034Z"
    },
    "papermill": {
     "duration": 2.433246,
     "end_time": "2024-10-05T17:05:33.869245",
     "exception": false,
     "start_time": "2024-10-05T17:05:31.435999",
     "status": "completed"
    },
    "tags": []
   },
   "outputs": [],
   "source": [
    "categorical_features = ['brand', 'model', 'fuel_type', 'transmission', 'ext_col', 'int_col']\n",
    "binary_features = ['accident', 'clean_title']\n",
    "\n",
    "# Label Encoding for binary features\n",
    "for feature in binary_features:\n",
    "    le = LabelEncoder()\n",
    "    df_train[feature + '_encoded'] = le.fit_transform(df_train[feature].fillna('None reported'))\n",
    "    df_test[feature + '_encoded'] = le.transform(df_test[feature].fillna('None reported'))\n",
    "\n",
    "def split_engine(df):\n",
    "    df['horsepower'] = df['engine'].str.extract(r'(\\d+)HP').astype(float)\n",
    "    df['engine_size'] = df['engine'].str.extract(r'(\\d\\.\\d+)L').astype(float)\n",
    "    return df\n",
    "\n",
    "df_train = split_engine(df_train)\n",
    "df_test = split_engine(df_test)\n",
    "\n",
    "# Drop columns that are not needed\n",
    "df_train = df_train.drop(columns=['engine'])\n",
    "df_test = df_test.drop(columns=['engine'])"
   ]
  },
  {
   "cell_type": "code",
   "execution_count": 11,
   "id": "21ca3d00",
   "metadata": {
    "execution": {
     "iopub.execute_input": "2024-10-05T17:05:33.907664Z",
     "iopub.status.busy": "2024-10-05T17:05:33.907230Z",
     "iopub.status.idle": "2024-10-05T17:05:33.944222Z",
     "shell.execute_reply": "2024-10-05T17:05:33.943112Z"
    },
    "papermill": {
     "duration": 0.059202,
     "end_time": "2024-10-05T17:05:33.947163",
     "exception": false,
     "start_time": "2024-10-05T17:05:33.887961",
     "status": "completed"
    },
    "tags": []
   },
   "outputs": [
    {
     "name": "stdout",
     "output_type": "stream",
     "text": [
      "\n",
      "Columns in df_train before preprocessing:\n",
      "['id', 'brand', 'model', 'model_year', 'milage', 'fuel_type', 'transmission', 'ext_col', 'int_col', 'accident', 'clean_title', 'price', 'accident_encoded', 'clean_title_encoded', 'horsepower', 'engine_size']\n",
      "\n",
      "Columns in df_test before preprocessing:\n",
      "['id', 'brand', 'model', 'model_year', 'milage', 'fuel_type', 'transmission', 'ext_col', 'int_col', 'accident', 'clean_title', 'accident_encoded', 'clean_title_encoded', 'horsepower', 'engine_size']\n"
     ]
    }
   ],
   "source": [
    "numerical_features = ['model_year', 'milage', 'horsepower', 'engine_size',\n",
    "                      'accident_encoded', 'clean_title_encoded']\n",
    "\n",
    "# Handle missing values and data type optimization\n",
    "df_train[numerical_features] = df_train[numerical_features].fillna(0).astype('float32')\n",
    "df_test[numerical_features] = df_test[numerical_features].fillna(0).astype('float32')\n",
    "\n",
    "# Column verification before preprocessing\n",
    "print(\"\\nColumns in df_train before preprocessing:\")\n",
    "print(df_train.columns.tolist())\n",
    "\n",
    "print(\"\\nColumns in df_test before preprocessing:\")\n",
    "print(df_test.columns.tolist())\n"
   ]
  },
  {
   "cell_type": "code",
   "execution_count": 12,
   "id": "11126e9e",
   "metadata": {
    "execution": {
     "iopub.execute_input": "2024-10-05T17:05:33.983697Z",
     "iopub.status.busy": "2024-10-05T17:05:33.983279Z",
     "iopub.status.idle": "2024-10-05T17:05:33.989611Z",
     "shell.execute_reply": "2024-10-05T17:05:33.988550Z"
    },
    "papermill": {
     "duration": 0.027513,
     "end_time": "2024-10-05T17:05:33.992012",
     "exception": false,
     "start_time": "2024-10-05T17:05:33.964499",
     "status": "completed"
    },
    "tags": []
   },
   "outputs": [],
   "source": [
    "# Define preprocessor with OneHotEncoder to produce dense output\n",
    "preprocessor = ColumnTransformer(\n",
    "    transformers=[\n",
    "        ('cat', OneHotEncoder(drop='first', handle_unknown='ignore', sparse_output=False), categorical_features),\n",
    "        ('num', StandardScaler(), numerical_features)\n",
    "    ],\n",
    "    remainder='drop'\n",
    ")"
   ]
  },
  {
   "cell_type": "markdown",
   "id": "3af5cfeb",
   "metadata": {
    "papermill": {
     "duration": 0.017094,
     "end_time": "2024-10-05T17:05:34.026571",
     "exception": false,
     "start_time": "2024-10-05T17:05:34.009477",
     "status": "completed"
    },
    "tags": []
   },
   "source": [
    "# **Model**\n",
    "In this project the model that will be used is\n",
    "1. Linier Regression \n",
    "2. Decision Tree Regression \n",
    "3. Random forest"
   ]
  },
  {
   "cell_type": "markdown",
   "id": "b7f6a46d",
   "metadata": {
    "papermill": {
     "duration": 0.016846,
     "end_time": "2024-10-05T17:05:34.062183",
     "exception": false,
     "start_time": "2024-10-05T17:05:34.045337",
     "status": "completed"
    },
    "tags": []
   },
   "source": [
    "**LINIER REGRESSION**"
   ]
  },
  {
   "cell_type": "code",
   "execution_count": 13,
   "id": "2b0b5ad4",
   "metadata": {
    "execution": {
     "iopub.execute_input": "2024-10-05T17:05:34.098786Z",
     "iopub.status.busy": "2024-10-05T17:05:34.098299Z",
     "iopub.status.idle": "2024-10-05T17:05:34.103931Z",
     "shell.execute_reply": "2024-10-05T17:05:34.102862Z"
    },
    "papermill": {
     "duration": 0.02692,
     "end_time": "2024-10-05T17:05:34.106411",
     "exception": false,
     "start_time": "2024-10-05T17:05:34.079491",
     "status": "completed"
    },
    "tags": []
   },
   "outputs": [],
   "source": [
    "# Pipeline for Linear Regression\n",
    "pipeline = Pipeline(steps=[\n",
    "    ('preprocessor', preprocessor),\n",
    "    ('regressor', LinearRegression())\n",
    "])"
   ]
  },
  {
   "cell_type": "code",
   "execution_count": 14,
   "id": "735ece4b",
   "metadata": {
    "execution": {
     "iopub.execute_input": "2024-10-05T17:05:34.143006Z",
     "iopub.status.busy": "2024-10-05T17:05:34.142546Z",
     "iopub.status.idle": "2024-10-05T17:05:34.262306Z",
     "shell.execute_reply": "2024-10-05T17:05:34.261186Z"
    },
    "papermill": {
     "duration": 0.141501,
     "end_time": "2024-10-05T17:05:34.265171",
     "exception": false,
     "start_time": "2024-10-05T17:05:34.123670",
     "status": "completed"
    },
    "tags": []
   },
   "outputs": [],
   "source": [
    "X = df_train.drop(columns=['price'])\n",
    "y = df_train['price']\n",
    "\n",
    "X_train, X_val, y_train, y_val = train_test_split(X, y, test_size=0.2, random_state=42)"
   ]
  },
  {
   "cell_type": "code",
   "execution_count": 15,
   "id": "d3529de6",
   "metadata": {
    "execution": {
     "iopub.execute_input": "2024-10-05T17:05:34.302672Z",
     "iopub.status.busy": "2024-10-05T17:05:34.302239Z",
     "iopub.status.idle": "2024-10-05T17:05:34.310672Z",
     "shell.execute_reply": "2024-10-05T17:05:34.309413Z"
    },
    "papermill": {
     "duration": 0.030672,
     "end_time": "2024-10-05T17:05:34.313224",
     "exception": false,
     "start_time": "2024-10-05T17:05:34.282552",
     "status": "completed"
    },
    "tags": []
   },
   "outputs": [
    {
     "name": "stdout",
     "output_type": "stream",
     "text": [
      "\n",
      "All categorical and numeric columns are present in data train.\n",
      "\n",
      "All categorical and numeric columns are present in data test.\n"
     ]
    }
   ],
   "source": [
    "# Verify the columns to be used in the preprocessor\n",
    "missing_cols_train = [col for col in categorical_features + numerical_features if col not in X_train.columns]\n",
    "missing_cols_test = [col for col in categorical_features + numerical_features if col not in df_test.columns]\n",
    "\n",
    "if missing_cols_train:\n",
    "    print(f\"\\nMissing columns in data train: {missing_cols_train}\")\n",
    "else:\n",
    "    print(\"\\nAll categorical and numeric columns are present in data train.\")\n",
    "\n",
    "if missing_cols_test:\n",
    "    print(f\"\\nMissing columns in data test: {missing_cols_test}\")\n",
    "else:\n",
    "    print(\"\\nAll categorical and numeric columns are present in data test.\")"
   ]
  },
  {
   "cell_type": "code",
   "execution_count": 16,
   "id": "2e6759e8",
   "metadata": {
    "execution": {
     "iopub.execute_input": "2024-10-05T17:05:34.349995Z",
     "iopub.status.busy": "2024-10-05T17:05:34.349570Z",
     "iopub.status.idle": "2024-10-05T17:05:34.355216Z",
     "shell.execute_reply": "2024-10-05T17:05:34.354086Z"
    },
    "papermill": {
     "duration": 0.027062,
     "end_time": "2024-10-05T17:05:34.357797",
     "exception": false,
     "start_time": "2024-10-05T17:05:34.330735",
     "status": "completed"
    },
    "tags": []
   },
   "outputs": [],
   "source": [
    "# Make sure there are no missing columns before continuing\n",
    "assert not missing_cols_train, f\"The following columns are missing in train data: {missing_cols_train}\"\n",
    "assert not missing_cols_test, f\"The following columns are missing in test data: {missing_cols_test}\""
   ]
  },
  {
   "cell_type": "code",
   "execution_count": 17,
   "id": "2b2f2b16",
   "metadata": {
    "execution": {
     "iopub.execute_input": "2024-10-05T17:05:34.396031Z",
     "iopub.status.busy": "2024-10-05T17:05:34.394879Z",
     "iopub.status.idle": "2024-10-05T17:06:46.408138Z",
     "shell.execute_reply": "2024-10-05T17:06:46.406346Z"
    },
    "papermill": {
     "duration": 72.037026,
     "end_time": "2024-10-05T17:06:46.412858",
     "exception": false,
     "start_time": "2024-10-05T17:05:34.375832",
     "status": "completed"
    },
    "tags": []
   },
   "outputs": [
    {
     "name": "stdout",
     "output_type": "stream",
     "text": [
      "\n",
      "Training a Linear Regression model...\n"
     ]
    },
    {
     "name": "stderr",
     "output_type": "stream",
     "text": [
      "/opt/conda/lib/python3.10/site-packages/sklearn/preprocessing/_encoders.py:202: UserWarning: Found unknown categories in columns [0, 1, 3, 4] during transform. These unknown categories will be encoded as all zeros\n",
      "  warnings.warn(\n"
     ]
    }
   ],
   "source": [
    "# Train the model\n",
    "print(\"\\nTraining a Linear Regression model...\")\n",
    "pipeline.fit(X_train, y_train)\n",
    "\n",
    "# Predict validation set\n",
    "y_pred = pipeline.predict(X_val)"
   ]
  },
  {
   "cell_type": "code",
   "execution_count": 18,
   "id": "fd86e3a5",
   "metadata": {
    "execution": {
     "iopub.execute_input": "2024-10-05T17:06:46.490894Z",
     "iopub.status.busy": "2024-10-05T17:06:46.490041Z",
     "iopub.status.idle": "2024-10-05T17:06:46.505393Z",
     "shell.execute_reply": "2024-10-05T17:06:46.503732Z"
    },
    "papermill": {
     "duration": 0.059383,
     "end_time": "2024-10-05T17:06:46.509252",
     "exception": false,
     "start_time": "2024-10-05T17:06:46.449869",
     "status": "completed"
    },
    "tags": []
   },
   "outputs": [
    {
     "name": "stdout",
     "output_type": "stream",
     "text": [
      "\n",
      "Model Evaluation on Validation Set of Linear Regression:\n",
      "MSE: 6254828153.550581\n",
      "RMSE: 79087.47153342671\n",
      "R^2 Score: 0.08808156814567214\n"
     ]
    }
   ],
   "source": [
    "# Evaluate model\n",
    "mse1 = mean_squared_error(y_val, y_pred)\n",
    "rmse1 = np.sqrt(mse1)\n",
    "r2_1 = r2_score(y_val, y_pred)\n",
    "\n",
    "print(f\"\\nModel Evaluation on Validation Set of Linear Regression:\")\n",
    "print(f\"MSE: {mse1}\")\n",
    "print(f\"RMSE: {rmse1}\")\n",
    "print(f\"R^2 Score: {r2_1}\")"
   ]
  },
  {
   "cell_type": "code",
   "execution_count": 19,
   "id": "4b59019b",
   "metadata": {
    "execution": {
     "iopub.execute_input": "2024-10-05T17:06:46.553987Z",
     "iopub.status.busy": "2024-10-05T17:06:46.552894Z",
     "iopub.status.idle": "2024-10-05T17:08:15.244817Z",
     "shell.execute_reply": "2024-10-05T17:08:15.243501Z"
    },
    "papermill": {
     "duration": 88.732203,
     "end_time": "2024-10-05T17:08:15.266321",
     "exception": false,
     "start_time": "2024-10-05T17:06:46.534118",
     "status": "completed"
    },
    "tags": []
   },
   "outputs": [
    {
     "name": "stdout",
     "output_type": "stream",
     "text": [
      "\n",
      "Training a Linear Regression model on the entire train data...\n"
     ]
    },
    {
     "data": {
      "text/html": [
       "<style>#sk-container-id-1 {color: black;background-color: white;}#sk-container-id-1 pre{padding: 0;}#sk-container-id-1 div.sk-toggleable {background-color: white;}#sk-container-id-1 label.sk-toggleable__label {cursor: pointer;display: block;width: 100%;margin-bottom: 0;padding: 0.3em;box-sizing: border-box;text-align: center;}#sk-container-id-1 label.sk-toggleable__label-arrow:before {content: \"▸\";float: left;margin-right: 0.25em;color: #696969;}#sk-container-id-1 label.sk-toggleable__label-arrow:hover:before {color: black;}#sk-container-id-1 div.sk-estimator:hover label.sk-toggleable__label-arrow:before {color: black;}#sk-container-id-1 div.sk-toggleable__content {max-height: 0;max-width: 0;overflow: hidden;text-align: left;background-color: #f0f8ff;}#sk-container-id-1 div.sk-toggleable__content pre {margin: 0.2em;color: black;border-radius: 0.25em;background-color: #f0f8ff;}#sk-container-id-1 input.sk-toggleable__control:checked~div.sk-toggleable__content {max-height: 200px;max-width: 100%;overflow: auto;}#sk-container-id-1 input.sk-toggleable__control:checked~label.sk-toggleable__label-arrow:before {content: \"▾\";}#sk-container-id-1 div.sk-estimator input.sk-toggleable__control:checked~label.sk-toggleable__label {background-color: #d4ebff;}#sk-container-id-1 div.sk-label input.sk-toggleable__control:checked~label.sk-toggleable__label {background-color: #d4ebff;}#sk-container-id-1 input.sk-hidden--visually {border: 0;clip: rect(1px 1px 1px 1px);clip: rect(1px, 1px, 1px, 1px);height: 1px;margin: -1px;overflow: hidden;padding: 0;position: absolute;width: 1px;}#sk-container-id-1 div.sk-estimator {font-family: monospace;background-color: #f0f8ff;border: 1px dotted black;border-radius: 0.25em;box-sizing: border-box;margin-bottom: 0.5em;}#sk-container-id-1 div.sk-estimator:hover {background-color: #d4ebff;}#sk-container-id-1 div.sk-parallel-item::after {content: \"\";width: 100%;border-bottom: 1px solid gray;flex-grow: 1;}#sk-container-id-1 div.sk-label:hover label.sk-toggleable__label {background-color: #d4ebff;}#sk-container-id-1 div.sk-serial::before {content: \"\";position: absolute;border-left: 1px solid gray;box-sizing: border-box;top: 0;bottom: 0;left: 50%;z-index: 0;}#sk-container-id-1 div.sk-serial {display: flex;flex-direction: column;align-items: center;background-color: white;padding-right: 0.2em;padding-left: 0.2em;position: relative;}#sk-container-id-1 div.sk-item {position: relative;z-index: 1;}#sk-container-id-1 div.sk-parallel {display: flex;align-items: stretch;justify-content: center;background-color: white;position: relative;}#sk-container-id-1 div.sk-item::before, #sk-container-id-1 div.sk-parallel-item::before {content: \"\";position: absolute;border-left: 1px solid gray;box-sizing: border-box;top: 0;bottom: 0;left: 50%;z-index: -1;}#sk-container-id-1 div.sk-parallel-item {display: flex;flex-direction: column;z-index: 1;position: relative;background-color: white;}#sk-container-id-1 div.sk-parallel-item:first-child::after {align-self: flex-end;width: 50%;}#sk-container-id-1 div.sk-parallel-item:last-child::after {align-self: flex-start;width: 50%;}#sk-container-id-1 div.sk-parallel-item:only-child::after {width: 0;}#sk-container-id-1 div.sk-dashed-wrapped {border: 1px dashed gray;margin: 0 0.4em 0.5em 0.4em;box-sizing: border-box;padding-bottom: 0.4em;background-color: white;}#sk-container-id-1 div.sk-label label {font-family: monospace;font-weight: bold;display: inline-block;line-height: 1.2em;}#sk-container-id-1 div.sk-label-container {text-align: center;}#sk-container-id-1 div.sk-container {/* jupyter's `normalize.less` sets `[hidden] { display: none; }` but bootstrap.min.css set `[hidden] { display: none !important; }` so we also need the `!important` here to be able to override the default hidden behavior on the sphinx rendered scikit-learn.org. See: https://github.com/scikit-learn/scikit-learn/issues/21755 */display: inline-block !important;position: relative;}#sk-container-id-1 div.sk-text-repr-fallback {display: none;}</style><div id=\"sk-container-id-1\" class=\"sk-top-container\"><div class=\"sk-text-repr-fallback\"><pre>Pipeline(steps=[(&#x27;preprocessor&#x27;,\n",
       "                 ColumnTransformer(transformers=[(&#x27;cat&#x27;,\n",
       "                                                  OneHotEncoder(drop=&#x27;first&#x27;,\n",
       "                                                                handle_unknown=&#x27;ignore&#x27;,\n",
       "                                                                sparse_output=False),\n",
       "                                                  [&#x27;brand&#x27;, &#x27;model&#x27;,\n",
       "                                                   &#x27;fuel_type&#x27;, &#x27;transmission&#x27;,\n",
       "                                                   &#x27;ext_col&#x27;, &#x27;int_col&#x27;]),\n",
       "                                                 (&#x27;num&#x27;, StandardScaler(),\n",
       "                                                  [&#x27;model_year&#x27;, &#x27;milage&#x27;,\n",
       "                                                   &#x27;horsepower&#x27;, &#x27;engine_size&#x27;,\n",
       "                                                   &#x27;accident_encoded&#x27;,\n",
       "                                                   &#x27;clean_title_encoded&#x27;])])),\n",
       "                (&#x27;regressor&#x27;, LinearRegression())])</pre><b>In a Jupyter environment, please rerun this cell to show the HTML representation or trust the notebook. <br />On GitHub, the HTML representation is unable to render, please try loading this page with nbviewer.org.</b></div><div class=\"sk-container\" hidden><div class=\"sk-item sk-dashed-wrapped\"><div class=\"sk-label-container\"><div class=\"sk-label sk-toggleable\"><input class=\"sk-toggleable__control sk-hidden--visually\" id=\"sk-estimator-id-1\" type=\"checkbox\" ><label for=\"sk-estimator-id-1\" class=\"sk-toggleable__label sk-toggleable__label-arrow\">Pipeline</label><div class=\"sk-toggleable__content\"><pre>Pipeline(steps=[(&#x27;preprocessor&#x27;,\n",
       "                 ColumnTransformer(transformers=[(&#x27;cat&#x27;,\n",
       "                                                  OneHotEncoder(drop=&#x27;first&#x27;,\n",
       "                                                                handle_unknown=&#x27;ignore&#x27;,\n",
       "                                                                sparse_output=False),\n",
       "                                                  [&#x27;brand&#x27;, &#x27;model&#x27;,\n",
       "                                                   &#x27;fuel_type&#x27;, &#x27;transmission&#x27;,\n",
       "                                                   &#x27;ext_col&#x27;, &#x27;int_col&#x27;]),\n",
       "                                                 (&#x27;num&#x27;, StandardScaler(),\n",
       "                                                  [&#x27;model_year&#x27;, &#x27;milage&#x27;,\n",
       "                                                   &#x27;horsepower&#x27;, &#x27;engine_size&#x27;,\n",
       "                                                   &#x27;accident_encoded&#x27;,\n",
       "                                                   &#x27;clean_title_encoded&#x27;])])),\n",
       "                (&#x27;regressor&#x27;, LinearRegression())])</pre></div></div></div><div class=\"sk-serial\"><div class=\"sk-item sk-dashed-wrapped\"><div class=\"sk-label-container\"><div class=\"sk-label sk-toggleable\"><input class=\"sk-toggleable__control sk-hidden--visually\" id=\"sk-estimator-id-2\" type=\"checkbox\" ><label for=\"sk-estimator-id-2\" class=\"sk-toggleable__label sk-toggleable__label-arrow\">preprocessor: ColumnTransformer</label><div class=\"sk-toggleable__content\"><pre>ColumnTransformer(transformers=[(&#x27;cat&#x27;,\n",
       "                                 OneHotEncoder(drop=&#x27;first&#x27;,\n",
       "                                               handle_unknown=&#x27;ignore&#x27;,\n",
       "                                               sparse_output=False),\n",
       "                                 [&#x27;brand&#x27;, &#x27;model&#x27;, &#x27;fuel_type&#x27;, &#x27;transmission&#x27;,\n",
       "                                  &#x27;ext_col&#x27;, &#x27;int_col&#x27;]),\n",
       "                                (&#x27;num&#x27;, StandardScaler(),\n",
       "                                 [&#x27;model_year&#x27;, &#x27;milage&#x27;, &#x27;horsepower&#x27;,\n",
       "                                  &#x27;engine_size&#x27;, &#x27;accident_encoded&#x27;,\n",
       "                                  &#x27;clean_title_encoded&#x27;])])</pre></div></div></div><div class=\"sk-parallel\"><div class=\"sk-parallel-item\"><div class=\"sk-item\"><div class=\"sk-label-container\"><div class=\"sk-label sk-toggleable\"><input class=\"sk-toggleable__control sk-hidden--visually\" id=\"sk-estimator-id-3\" type=\"checkbox\" ><label for=\"sk-estimator-id-3\" class=\"sk-toggleable__label sk-toggleable__label-arrow\">cat</label><div class=\"sk-toggleable__content\"><pre>[&#x27;brand&#x27;, &#x27;model&#x27;, &#x27;fuel_type&#x27;, &#x27;transmission&#x27;, &#x27;ext_col&#x27;, &#x27;int_col&#x27;]</pre></div></div></div><div class=\"sk-serial\"><div class=\"sk-item\"><div class=\"sk-estimator sk-toggleable\"><input class=\"sk-toggleable__control sk-hidden--visually\" id=\"sk-estimator-id-4\" type=\"checkbox\" ><label for=\"sk-estimator-id-4\" class=\"sk-toggleable__label sk-toggleable__label-arrow\">OneHotEncoder</label><div class=\"sk-toggleable__content\"><pre>OneHotEncoder(drop=&#x27;first&#x27;, handle_unknown=&#x27;ignore&#x27;, sparse_output=False)</pre></div></div></div></div></div></div><div class=\"sk-parallel-item\"><div class=\"sk-item\"><div class=\"sk-label-container\"><div class=\"sk-label sk-toggleable\"><input class=\"sk-toggleable__control sk-hidden--visually\" id=\"sk-estimator-id-5\" type=\"checkbox\" ><label for=\"sk-estimator-id-5\" class=\"sk-toggleable__label sk-toggleable__label-arrow\">num</label><div class=\"sk-toggleable__content\"><pre>[&#x27;model_year&#x27;, &#x27;milage&#x27;, &#x27;horsepower&#x27;, &#x27;engine_size&#x27;, &#x27;accident_encoded&#x27;, &#x27;clean_title_encoded&#x27;]</pre></div></div></div><div class=\"sk-serial\"><div class=\"sk-item\"><div class=\"sk-estimator sk-toggleable\"><input class=\"sk-toggleable__control sk-hidden--visually\" id=\"sk-estimator-id-6\" type=\"checkbox\" ><label for=\"sk-estimator-id-6\" class=\"sk-toggleable__label sk-toggleable__label-arrow\">StandardScaler</label><div class=\"sk-toggleable__content\"><pre>StandardScaler()</pre></div></div></div></div></div></div></div></div><div class=\"sk-item\"><div class=\"sk-estimator sk-toggleable\"><input class=\"sk-toggleable__control sk-hidden--visually\" id=\"sk-estimator-id-7\" type=\"checkbox\" ><label for=\"sk-estimator-id-7\" class=\"sk-toggleable__label sk-toggleable__label-arrow\">LinearRegression</label><div class=\"sk-toggleable__content\"><pre>LinearRegression()</pre></div></div></div></div></div></div></div>"
      ],
      "text/plain": [
       "Pipeline(steps=[('preprocessor',\n",
       "                 ColumnTransformer(transformers=[('cat',\n",
       "                                                  OneHotEncoder(drop='first',\n",
       "                                                                handle_unknown='ignore',\n",
       "                                                                sparse_output=False),\n",
       "                                                  ['brand', 'model',\n",
       "                                                   'fuel_type', 'transmission',\n",
       "                                                   'ext_col', 'int_col']),\n",
       "                                                 ('num', StandardScaler(),\n",
       "                                                  ['model_year', 'milage',\n",
       "                                                   'horsepower', 'engine_size',\n",
       "                                                   'accident_encoded',\n",
       "                                                   'clean_title_encoded'])])),\n",
       "                ('regressor', LinearRegression())])"
      ]
     },
     "execution_count": 19,
     "metadata": {},
     "output_type": "execute_result"
    }
   ],
   "source": [
    "print(\"\\nTraining a Linear Regression model on the entire train data...\")\n",
    "pipeline.fit(X, y)"
   ]
  },
  {
   "cell_type": "code",
   "execution_count": 20,
   "id": "1f75525c",
   "metadata": {
    "execution": {
     "iopub.execute_input": "2024-10-05T17:08:15.303906Z",
     "iopub.status.busy": "2024-10-05T17:08:15.303404Z",
     "iopub.status.idle": "2024-10-05T17:08:18.816553Z",
     "shell.execute_reply": "2024-10-05T17:08:18.814924Z"
    },
    "papermill": {
     "duration": 3.536872,
     "end_time": "2024-10-05T17:08:18.821176",
     "exception": false,
     "start_time": "2024-10-05T17:08:15.284304",
     "status": "completed"
    },
    "tags": []
   },
   "outputs": [
    {
     "name": "stdout",
     "output_type": "stream",
     "text": [
      "\n",
      "Making predictions on test data...\n"
     ]
    },
    {
     "name": "stderr",
     "output_type": "stream",
     "text": [
      "/opt/conda/lib/python3.10/site-packages/sklearn/preprocessing/_encoders.py:202: UserWarning: Found unknown categories in columns [1, 4] during transform. These unknown categories will be encoded as all zeros\n",
      "  warnings.warn(\n"
     ]
    }
   ],
   "source": [
    "print(\"\\nMaking predictions on test data...\")\n",
    "y_test_pred = pipeline.predict(df_test)\n",
    "\n",
    "df_test['Predicted Price'] = y_test_pred"
   ]
  },
  {
   "cell_type": "code",
   "execution_count": 21,
   "id": "49df956b",
   "metadata": {
    "execution": {
     "iopub.execute_input": "2024-10-05T17:08:18.900406Z",
     "iopub.status.busy": "2024-10-05T17:08:18.899675Z",
     "iopub.status.idle": "2024-10-05T17:08:19.358180Z",
     "shell.execute_reply": "2024-10-05T17:08:19.356937Z"
    },
    "papermill": {
     "duration": 0.501069,
     "end_time": "2024-10-05T17:08:19.360544",
     "exception": false,
     "start_time": "2024-10-05T17:08:18.859475",
     "status": "completed"
    },
    "tags": []
   },
   "outputs": [
    {
     "data": {
      "image/png": "[encoded data removed]",
      "text/plain": [
       "<Figure size 1000x600 with 1 Axes>"
      ]
     },
     "metadata": {},
     "output_type": "display_data"
    }
   ],
   "source": [
    "# Price prediction visualization\n",
    "plt.figure(figsize=(10, 6))\n",
    "plt.scatter(y_val, y_pred, alpha=0.5)\n",
    "plt.xlabel(\"Actual Price\")\n",
    "plt.ylabel(\"Price prediction\")\n",
    "plt.title(\"Comparison of Actual and Predicted Prices\")\n",
    "plt.plot([min(y_val), max(y_val)], [min(y_val), max(y_val)], color='red', linestyle='--')\n",
    "plt.show()"
   ]
  },
  {
   "cell_type": "markdown",
   "id": "53afeab6",
   "metadata": {
    "papermill": {
     "duration": 0.019476,
     "end_time": "2024-10-05T17:08:19.399499",
     "exception": false,
     "start_time": "2024-10-05T17:08:19.380023",
     "status": "completed"
    },
    "tags": []
   },
   "source": [
    "**DECISION TREE REGRESSION**"
   ]
  },
  {
   "cell_type": "code",
   "execution_count": 22,
   "id": "4f9fd57c",
   "metadata": {
    "execution": {
     "iopub.execute_input": "2024-10-05T17:08:19.440993Z",
     "iopub.status.busy": "2024-10-05T17:08:19.439923Z",
     "iopub.status.idle": "2024-10-05T17:08:19.445846Z",
     "shell.execute_reply": "2024-10-05T17:08:19.444636Z"
    },
    "papermill": {
     "duration": 0.02914,
     "end_time": "2024-10-05T17:08:19.448184",
     "exception": false,
     "start_time": "2024-10-05T17:08:19.419044",
     "status": "completed"
    },
    "tags": []
   },
   "outputs": [],
   "source": [
    "# Pipeline for Decision Tree Regressor\n",
    "pipeline = Pipeline(steps=[\n",
    "    ('preprocessor', preprocessor),\n",
    "    ('regressor', DecisionTreeRegressor(random_state=42))\n",
    "])"
   ]
  },
  {
   "cell_type": "code",
   "execution_count": 23,
   "id": "bcd7993f",
   "metadata": {
    "execution": {
     "iopub.execute_input": "2024-10-05T17:08:19.490700Z",
     "iopub.status.busy": "2024-10-05T17:08:19.489320Z",
     "iopub.status.idle": "2024-10-05T17:08:19.604254Z",
     "shell.execute_reply": "2024-10-05T17:08:19.603027Z"
    },
    "papermill": {
     "duration": 0.139026,
     "end_time": "2024-10-05T17:08:19.607157",
     "exception": false,
     "start_time": "2024-10-05T17:08:19.468131",
     "status": "completed"
    },
    "tags": []
   },
   "outputs": [],
   "source": [
    "X = df_train.drop(columns=['price'])\n",
    "y = df_train['price']\n",
    "\n",
    "X_train, X_val, y_train, y_val = train_test_split(X, y, test_size=0.2, random_state=42)"
   ]
  },
  {
   "cell_type": "code",
   "execution_count": 24,
   "id": "ae378c40",
   "metadata": {
    "execution": {
     "iopub.execute_input": "2024-10-05T17:08:19.648265Z",
     "iopub.status.busy": "2024-10-05T17:08:19.647397Z",
     "iopub.status.idle": "2024-10-05T17:08:19.655254Z",
     "shell.execute_reply": "2024-10-05T17:08:19.654156Z"
    },
    "papermill": {
     "duration": 0.031705,
     "end_time": "2024-10-05T17:08:19.658326",
     "exception": false,
     "start_time": "2024-10-05T17:08:19.626621",
     "status": "completed"
    },
    "tags": []
   },
   "outputs": [
    {
     "name": "stdout",
     "output_type": "stream",
     "text": [
      "\n",
      "All categorical and numeric columns are present in data train.\n",
      "\n",
      "All categorical and numeric columns are present in data test.\n"
     ]
    }
   ],
   "source": [
    "# Verify the columns to be used in the preprocessor\n",
    "missing_cols_train = [col for col in categorical_features + numerical_features if col not in X_train.columns]\n",
    "missing_cols_test = [col for col in categorical_features + numerical_features if col not in df_test.columns]\n",
    "\n",
    "if missing_cols_train:\n",
    "    print(f\"\\nMissing columns in data train: {missing_cols_train}\")\n",
    "else:\n",
    "    print(\"\\nAll categorical and numeric columns are present in data train.\")\n",
    "\n",
    "if missing_cols_test:\n",
    "    print(f\"\\nMissing columns in data test: {missing_cols_test}\")\n",
    "else:\n",
    "    print(\"\\nAll categorical and numeric columns are present in data test.\")\n"
   ]
  },
  {
   "cell_type": "code",
   "execution_count": 25,
   "id": "a965ab0d",
   "metadata": {
    "execution": {
     "iopub.execute_input": "2024-10-05T17:08:19.701138Z",
     "iopub.status.busy": "2024-10-05T17:08:19.699996Z",
     "iopub.status.idle": "2024-10-05T17:08:19.706009Z",
     "shell.execute_reply": "2024-10-05T17:08:19.704877Z"
    },
    "papermill": {
     "duration": 0.030179,
     "end_time": "2024-10-05T17:08:19.708542",
     "exception": false,
     "start_time": "2024-10-05T17:08:19.678363",
     "status": "completed"
    },
    "tags": []
   },
   "outputs": [],
   "source": [
    "# Make sure there are no missing columns before continuing\n",
    "assert not missing_cols_train, f\"The following columns are missing in train data: {missing_cols_train}\"\n",
    "assert not missing_cols_test, f\"The following columns are missing in test data: {missing_cols_test}\""
   ]
  },
  {
   "cell_type": "code",
   "execution_count": 26,
   "id": "422bc883",
   "metadata": {
    "execution": {
     "iopub.execute_input": "2024-10-05T17:08:19.749390Z",
     "iopub.status.busy": "2024-10-05T17:08:19.748924Z",
     "iopub.status.idle": "2024-10-05T17:09:25.319360Z",
     "shell.execute_reply": "2024-10-05T17:09:25.318101Z"
    },
    "papermill": {
     "duration": 65.613462,
     "end_time": "2024-10-05T17:09:25.341495",
     "exception": false,
     "start_time": "2024-10-05T17:08:19.728033",
     "status": "completed"
    },
    "tags": []
   },
   "outputs": [
    {
     "name": "stdout",
     "output_type": "stream",
     "text": [
      "\n",
      "Training a Decision Tree Regressor model...\n"
     ]
    },
    {
     "data": {
      "text/html": [
       "<style>#sk-container-id-2 {color: black;background-color: white;}#sk-container-id-2 pre{padding: 0;}#sk-container-id-2 div.sk-toggleable {background-color: white;}#sk-container-id-2 label.sk-toggleable__label {cursor: pointer;display: block;width: 100%;margin-bottom: 0;padding: 0.3em;box-sizing: border-box;text-align: center;}#sk-container-id-2 label.sk-toggleable__label-arrow:before {content: \"▸\";float: left;margin-right: 0.25em;color: #696969;}#sk-container-id-2 label.sk-toggleable__label-arrow:hover:before {color: black;}#sk-container-id-2 div.sk-estimator:hover label.sk-toggleable__label-arrow:before {color: black;}#sk-container-id-2 div.sk-toggleable__content {max-height: 0;max-width: 0;overflow: hidden;text-align: left;background-color: #f0f8ff;}#sk-container-id-2 div.sk-toggleable__content pre {margin: 0.2em;color: black;border-radius: 0.25em;background-color: #f0f8ff;}#sk-container-id-2 input.sk-toggleable__control:checked~div.sk-toggleable__content {max-height: 200px;max-width: 100%;overflow: auto;}#sk-container-id-2 input.sk-toggleable__control:checked~label.sk-toggleable__label-arrow:before {content: \"▾\";}#sk-container-id-2 div.sk-estimator input.sk-toggleable__control:checked~label.sk-toggleable__label {background-color: #d4ebff;}#sk-container-id-2 div.sk-label input.sk-toggleable__control:checked~label.sk-toggleable__label {background-color: #d4ebff;}#sk-container-id-2 input.sk-hidden--visually {border: 0;clip: rect(1px 1px 1px 1px);clip: rect(1px, 1px, 1px, 1px);height: 1px;margin: -1px;overflow: hidden;padding: 0;position: absolute;width: 1px;}#sk-container-id-2 div.sk-estimator {font-family: monospace;background-color: #f0f8ff;border: 1px dotted black;border-radius: 0.25em;box-sizing: border-box;margin-bottom: 0.5em;}#sk-container-id-2 div.sk-estimator:hover {background-color: #d4ebff;}#sk-container-id-2 div.sk-parallel-item::after {content: \"\";width: 100%;border-bottom: 1px solid gray;flex-grow: 1;}#sk-container-id-2 div.sk-label:hover label.sk-toggleable__label {background-color: #d4ebff;}#sk-container-id-2 div.sk-serial::before {content: \"\";position: absolute;border-left: 1px solid gray;box-sizing: border-box;top: 0;bottom: 0;left: 50%;z-index: 0;}#sk-container-id-2 div.sk-serial {display: flex;flex-direction: column;align-items: center;background-color: white;padding-right: 0.2em;padding-left: 0.2em;position: relative;}#sk-container-id-2 div.sk-item {position: relative;z-index: 1;}#sk-container-id-2 div.sk-parallel {display: flex;align-items: stretch;justify-content: center;background-color: white;position: relative;}#sk-container-id-2 div.sk-item::before, #sk-container-id-2 div.sk-parallel-item::before {content: \"\";position: absolute;border-left: 1px solid gray;box-sizing: border-box;top: 0;bottom: 0;left: 50%;z-index: -1;}#sk-container-id-2 div.sk-parallel-item {display: flex;flex-direction: column;z-index: 1;position: relative;background-color: white;}#sk-container-id-2 div.sk-parallel-item:first-child::after {align-self: flex-end;width: 50%;}#sk-container-id-2 div.sk-parallel-item:last-child::after {align-self: flex-start;width: 50%;}#sk-container-id-2 div.sk-parallel-item:only-child::after {width: 0;}#sk-container-id-2 div.sk-dashed-wrapped {border: 1px dashed gray;margin: 0 0.4em 0.5em 0.4em;box-sizing: border-box;padding-bottom: 0.4em;background-color: white;}#sk-container-id-2 div.sk-label label {font-family: monospace;font-weight: bold;display: inline-block;line-height: 1.2em;}#sk-container-id-2 div.sk-label-container {text-align: center;}#sk-container-id-2 div.sk-container {/* jupyter's `normalize.less` sets `[hidden] { display: none; }` but bootstrap.min.css set `[hidden] { display: none !important; }` so we also need the `!important` here to be able to override the default hidden behavior on the sphinx rendered scikit-learn.org. See: https://github.com/scikit-learn/scikit-learn/issues/21755 */display: inline-block !important;position: relative;}#sk-container-id-2 div.sk-text-repr-fallback {display: none;}</style><div id=\"sk-container-id-2\" class=\"sk-top-container\"><div class=\"sk-text-repr-fallback\"><pre>Pipeline(steps=[(&#x27;preprocessor&#x27;,\n",
       "                 ColumnTransformer(transformers=[(&#x27;cat&#x27;,\n",
       "                                                  OneHotEncoder(drop=&#x27;first&#x27;,\n",
       "                                                                handle_unknown=&#x27;ignore&#x27;,\n",
       "                                                                sparse_output=False),\n",
       "                                                  [&#x27;brand&#x27;, &#x27;model&#x27;,\n",
       "                                                   &#x27;fuel_type&#x27;, &#x27;transmission&#x27;,\n",
       "                                                   &#x27;ext_col&#x27;, &#x27;int_col&#x27;]),\n",
       "                                                 (&#x27;num&#x27;, StandardScaler(),\n",
       "                                                  [&#x27;model_year&#x27;, &#x27;milage&#x27;,\n",
       "                                                   &#x27;horsepower&#x27;, &#x27;engine_size&#x27;,\n",
       "                                                   &#x27;accident_encoded&#x27;,\n",
       "                                                   &#x27;clean_title_encoded&#x27;])])),\n",
       "                (&#x27;regressor&#x27;, DecisionTreeRegressor(random_state=42))])</pre><b>In a Jupyter environment, please rerun this cell to show the HTML representation or trust the notebook. <br />On GitHub, the HTML representation is unable to render, please try loading this page with nbviewer.org.</b></div><div class=\"sk-container\" hidden><div class=\"sk-item sk-dashed-wrapped\"><div class=\"sk-label-container\"><div class=\"sk-label sk-toggleable\"><input class=\"sk-toggleable__control sk-hidden--visually\" id=\"sk-estimator-id-8\" type=\"checkbox\" ><label for=\"sk-estimator-id-8\" class=\"sk-toggleable__label sk-toggleable__label-arrow\">Pipeline</label><div class=\"sk-toggleable__content\"><pre>Pipeline(steps=[(&#x27;preprocessor&#x27;,\n",
       "                 ColumnTransformer(transformers=[(&#x27;cat&#x27;,\n",
       "                                                  OneHotEncoder(drop=&#x27;first&#x27;,\n",
       "                                                                handle_unknown=&#x27;ignore&#x27;,\n",
       "                                                                sparse_output=False),\n",
       "                                                  [&#x27;brand&#x27;, &#x27;model&#x27;,\n",
       "                                                   &#x27;fuel_type&#x27;, &#x27;transmission&#x27;,\n",
       "                                                   &#x27;ext_col&#x27;, &#x27;int_col&#x27;]),\n",
       "                                                 (&#x27;num&#x27;, StandardScaler(),\n",
       "                                                  [&#x27;model_year&#x27;, &#x27;milage&#x27;,\n",
       "                                                   &#x27;horsepower&#x27;, &#x27;engine_size&#x27;,\n",
       "                                                   &#x27;accident_encoded&#x27;,\n",
       "                                                   &#x27;clean_title_encoded&#x27;])])),\n",
       "                (&#x27;regressor&#x27;, DecisionTreeRegressor(random_state=42))])</pre></div></div></div><div class=\"sk-serial\"><div class=\"sk-item sk-dashed-wrapped\"><div class=\"sk-label-container\"><div class=\"sk-label sk-toggleable\"><input class=\"sk-toggleable__control sk-hidden--visually\" id=\"sk-estimator-id-9\" type=\"checkbox\" ><label for=\"sk-estimator-id-9\" class=\"sk-toggleable__label sk-toggleable__label-arrow\">preprocessor: ColumnTransformer</label><div class=\"sk-toggleable__content\"><pre>ColumnTransformer(transformers=[(&#x27;cat&#x27;,\n",
       "                                 OneHotEncoder(drop=&#x27;first&#x27;,\n",
       "                                               handle_unknown=&#x27;ignore&#x27;,\n",
       "                                               sparse_output=False),\n",
       "                                 [&#x27;brand&#x27;, &#x27;model&#x27;, &#x27;fuel_type&#x27;, &#x27;transmission&#x27;,\n",
       "                                  &#x27;ext_col&#x27;, &#x27;int_col&#x27;]),\n",
       "                                (&#x27;num&#x27;, StandardScaler(),\n",
       "                                 [&#x27;model_year&#x27;, &#x27;milage&#x27;, &#x27;horsepower&#x27;,\n",
       "                                  &#x27;engine_size&#x27;, &#x27;accident_encoded&#x27;,\n",
       "                                  &#x27;clean_title_encoded&#x27;])])</pre></div></div></div><div class=\"sk-parallel\"><div class=\"sk-parallel-item\"><div class=\"sk-item\"><div class=\"sk-label-container\"><div class=\"sk-label sk-toggleable\"><input class=\"sk-toggleable__control sk-hidden--visually\" id=\"sk-estimator-id-10\" type=\"checkbox\" ><label for=\"sk-estimator-id-10\" class=\"sk-toggleable__label sk-toggleable__label-arrow\">cat</label><div class=\"sk-toggleable__content\"><pre>[&#x27;brand&#x27;, &#x27;model&#x27;, &#x27;fuel_type&#x27;, &#x27;transmission&#x27;, &#x27;ext_col&#x27;, &#x27;int_col&#x27;]</pre></div></div></div><div class=\"sk-serial\"><div class=\"sk-item\"><div class=\"sk-estimator sk-toggleable\"><input class=\"sk-toggleable__control sk-hidden--visually\" id=\"sk-estimator-id-11\" type=\"checkbox\" ><label for=\"sk-estimator-id-11\" class=\"sk-toggleable__label sk-toggleable__label-arrow\">OneHotEncoder</label><div class=\"sk-toggleable__content\"><pre>OneHotEncoder(drop=&#x27;first&#x27;, handle_unknown=&#x27;ignore&#x27;, sparse_output=False)</pre></div></div></div></div></div></div><div class=\"sk-parallel-item\"><div class=\"sk-item\"><div class=\"sk-label-container\"><div class=\"sk-label sk-toggleable\"><input class=\"sk-toggleable__control sk-hidden--visually\" id=\"sk-estimator-id-12\" type=\"checkbox\" ><label for=\"sk-estimator-id-12\" class=\"sk-toggleable__label sk-toggleable__label-arrow\">num</label><div class=\"sk-toggleable__content\"><pre>[&#x27;model_year&#x27;, &#x27;milage&#x27;, &#x27;horsepower&#x27;, &#x27;engine_size&#x27;, &#x27;accident_encoded&#x27;, &#x27;clean_title_encoded&#x27;]</pre></div></div></div><div class=\"sk-serial\"><div class=\"sk-item\"><div class=\"sk-estimator sk-toggleable\"><input class=\"sk-toggleable__control sk-hidden--visually\" id=\"sk-estimator-id-13\" type=\"checkbox\" ><label for=\"sk-estimator-id-13\" class=\"sk-toggleable__label sk-toggleable__label-arrow\">StandardScaler</label><div class=\"sk-toggleable__content\"><pre>StandardScaler()</pre></div></div></div></div></div></div></div></div><div class=\"sk-item\"><div class=\"sk-estimator sk-toggleable\"><input class=\"sk-toggleable__control sk-hidden--visually\" id=\"sk-estimator-id-14\" type=\"checkbox\" ><label for=\"sk-estimator-id-14\" class=\"sk-toggleable__label sk-toggleable__label-arrow\">DecisionTreeRegressor</label><div class=\"sk-toggleable__content\"><pre>DecisionTreeRegressor(random_state=42)</pre></div></div></div></div></div></div></div>"
      ],
      "text/plain": [
       "Pipeline(steps=[('preprocessor',\n",
       "                 ColumnTransformer(transformers=[('cat',\n",
       "                                                  OneHotEncoder(drop='first',\n",
       "                                                                handle_unknown='ignore',\n",
       "                                                                sparse_output=False),\n",
       "                                                  ['brand', 'model',\n",
       "                                                   'fuel_type', 'transmission',\n",
       "                                                   'ext_col', 'int_col']),\n",
       "                                                 ('num', StandardScaler(),\n",
       "                                                  ['model_year', 'milage',\n",
       "                                                   'horsepower', 'engine_size',\n",
       "                                                   'accident_encoded',\n",
       "                                                   'clean_title_encoded'])])),\n",
       "                ('regressor', DecisionTreeRegressor(random_state=42))])"
      ]
     },
     "execution_count": 26,
     "metadata": {},
     "output_type": "execute_result"
    }
   ],
   "source": [
    "# Train the model\n",
    "print(\"\\nTraining a Decision Tree Regressor model...\")\n",
    "pipeline.fit(X_train, y_train)"
   ]
  },
  {
   "cell_type": "code",
   "execution_count": 27,
   "id": "73a660b2",
   "metadata": {
    "execution": {
     "iopub.execute_input": "2024-10-05T17:09:25.383200Z",
     "iopub.status.busy": "2024-10-05T17:09:25.382745Z",
     "iopub.status.idle": "2024-10-05T17:09:26.584264Z",
     "shell.execute_reply": "2024-10-05T17:09:26.583026Z"
    },
    "papermill": {
     "duration": 1.226101,
     "end_time": "2024-10-05T17:09:26.587137",
     "exception": false,
     "start_time": "2024-10-05T17:09:25.361036",
     "status": "completed"
    },
    "tags": []
   },
   "outputs": [
    {
     "name": "stderr",
     "output_type": "stream",
     "text": [
      "/opt/conda/lib/python3.10/site-packages/sklearn/preprocessing/_encoders.py:202: UserWarning: Found unknown categories in columns [0, 1, 3, 4] during transform. These unknown categories will be encoded as all zeros\n",
      "  warnings.warn(\n"
     ]
    }
   ],
   "source": [
    "y_pred = pipeline.predict(X_val)"
   ]
  },
  {
   "cell_type": "code",
   "execution_count": 28,
   "id": "6c935394",
   "metadata": {
    "execution": {
     "iopub.execute_input": "2024-10-05T17:09:26.629580Z",
     "iopub.status.busy": "2024-10-05T17:09:26.628802Z",
     "iopub.status.idle": "2024-10-05T17:09:26.639119Z",
     "shell.execute_reply": "2024-10-05T17:09:26.637838Z"
    },
    "papermill": {
     "duration": 0.034342,
     "end_time": "2024-10-05T17:09:26.641529",
     "exception": false,
     "start_time": "2024-10-05T17:09:26.607187",
     "status": "completed"
    },
    "tags": []
   },
   "outputs": [
    {
     "name": "stdout",
     "output_type": "stream",
     "text": [
      "\n",
      "Model Evaluation on Validation Set of Linear Regression:\n",
      "MSE: 11007448595.011185\n",
      "RMSE: 104916.38859115951\n",
      "R^2 Score: -0.604823508345576\n"
     ]
    }
   ],
   "source": [
    "mse2 = mean_squared_error(y_val, y_pred)\n",
    "rmse2 = np.sqrt(mse2)\n",
    "r2_2 = r2_score(y_val, y_pred)\n",
    "\n",
    "print(f\"\\nModel Evaluation on Validation Set of Linear Regression:\")\n",
    "print(f\"MSE: {mse2}\")\n",
    "print(f\"RMSE: {rmse2}\")\n",
    "print(f\"R^2 Score: {r2_2}\")"
   ]
  },
  {
   "cell_type": "code",
   "execution_count": 29,
   "id": "88517fef",
   "metadata": {
    "execution": {
     "iopub.execute_input": "2024-10-05T17:09:26.684926Z",
     "iopub.status.busy": "2024-10-05T17:09:26.683938Z",
     "iopub.status.idle": "2024-10-05T17:09:27.068189Z",
     "shell.execute_reply": "2024-10-05T17:09:27.066956Z"
    },
    "papermill": {
     "duration": 0.408839,
     "end_time": "2024-10-05T17:09:27.071162",
     "exception": false,
     "start_time": "2024-10-05T17:09:26.662323",
     "status": "completed"
    },
    "tags": []
   },
   "outputs": [
    {
     "data": {
      "image/png": "[encoded data removed]",
      "text/plain": [
       "<Figure size 1000x600 with 1 Axes>"
      ]
     },
     "metadata": {},
     "output_type": "display_data"
    }
   ],
   "source": [
    "# Price prediction visualization\n",
    "plt.figure(figsize=(10, 6))\n",
    "plt.scatter(y_val, y_pred, alpha=0.5)  \n",
    "plt.xlabel(\"Actual Price\")\n",
    "plt.ylabel(\"Price prediction\")\n",
    "plt.title(\"Comparison of Actual and Predicted Prices\")\n",
    "plt.plot([min(y_val), max(y_val)], [min(y_val), max(y_val)], color='red', linestyle='--')  \n",
    "plt.show()"
   ]
  },
  {
   "cell_type": "markdown",
   "id": "57096ae1",
   "metadata": {
    "papermill": {
     "duration": 0.021025,
     "end_time": "2024-10-05T17:09:27.113801",
     "exception": false,
     "start_time": "2024-10-05T17:09:27.092776",
     "status": "completed"
    },
    "tags": []
   },
   "source": [
    "**RANDOM FOREST**"
   ]
  },
  {
   "cell_type": "code",
   "execution_count": 30,
   "id": "53fd4278",
   "metadata": {
    "execution": {
     "iopub.execute_input": "2024-10-05T17:09:27.159031Z",
     "iopub.status.busy": "2024-10-05T17:09:27.157917Z",
     "iopub.status.idle": "2024-10-05T17:09:27.164257Z",
     "shell.execute_reply": "2024-10-05T17:09:27.163048Z"
    },
    "papermill": {
     "duration": 0.031673,
     "end_time": "2024-10-05T17:09:27.166751",
     "exception": false,
     "start_time": "2024-10-05T17:09:27.135078",
     "status": "completed"
    },
    "tags": []
   },
   "outputs": [],
   "source": [
    "# Pipeline untuk Random Forest Regressor\n",
    "pipeline = Pipeline(steps=[\n",
    "    ('preprocessor', preprocessor),\n",
    "    ('regressor', RandomForestRegressor(n_estimators=100, random_state=42))\n",
    "])"
   ]
  },
  {
   "cell_type": "code",
   "execution_count": 31,
   "id": "9f3fa6ab",
   "metadata": {
    "execution": {
     "iopub.execute_input": "2024-10-05T17:09:27.210712Z",
     "iopub.status.busy": "2024-10-05T17:09:27.210233Z",
     "iopub.status.idle": "2024-10-05T17:09:27.327926Z",
     "shell.execute_reply": "2024-10-05T17:09:27.326473Z"
    },
    "papermill": {
     "duration": 0.142922,
     "end_time": "2024-10-05T17:09:27.330801",
     "exception": false,
     "start_time": "2024-10-05T17:09:27.187879",
     "status": "completed"
    },
    "tags": []
   },
   "outputs": [],
   "source": [
    "X = df_train.drop(columns=['price'])\n",
    "y = df_train['price']\n",
    "\n",
    "X_train, X_val, y_train, y_val = train_test_split(X, y, test_size=0.2, random_state=42)"
   ]
  },
  {
   "cell_type": "code",
   "execution_count": 32,
   "id": "74d300ac",
   "metadata": {
    "execution": {
     "iopub.execute_input": "2024-10-05T17:09:27.376083Z",
     "iopub.status.busy": "2024-10-05T17:09:27.375186Z",
     "iopub.status.idle": "2024-10-05T17:09:27.383102Z",
     "shell.execute_reply": "2024-10-05T17:09:27.381924Z"
    },
    "papermill": {
     "duration": 0.033451,
     "end_time": "2024-10-05T17:09:27.386094",
     "exception": false,
     "start_time": "2024-10-05T17:09:27.352643",
     "status": "completed"
    },
    "tags": []
   },
   "outputs": [
    {
     "name": "stdout",
     "output_type": "stream",
     "text": [
      "\n",
      "All categorical and numeric columns are present in data train.\n",
      "\n",
      "All categorical and numeric columns are present in data test.\n"
     ]
    }
   ],
   "source": [
    "# Verify the columns to be used in the preprocessor\n",
    "missing_cols_train = [col for col in categorical_features + numerical_features if col not in X_train.columns]\n",
    "missing_cols_test = [col for col in categorical_features + numerical_features if col not in df_test.columns]\n",
    "\n",
    "if missing_cols_train:\n",
    "    print(f\"\\nMissing columns in data train: {missing_cols_train}\")\n",
    "else:\n",
    "    print(\"\\nAll categorical and numeric columns are present in data train.\")\n",
    "\n",
    "if missing_cols_test:\n",
    "    print(f\"\\nMissing columns in data test: {missing_cols_test}\")\n",
    "else:\n",
    "    print(\"\\nAll categorical and numeric columns are present in data test.\")\n"
   ]
  },
  {
   "cell_type": "code",
   "execution_count": 33,
   "id": "855a710c",
   "metadata": {
    "execution": {
     "iopub.execute_input": "2024-10-05T17:09:27.430718Z",
     "iopub.status.busy": "2024-10-05T17:09:27.430288Z",
     "iopub.status.idle": "2024-10-05T17:09:27.435659Z",
     "shell.execute_reply": "2024-10-05T17:09:27.434599Z"
    },
    "papermill": {
     "duration": 0.03049,
     "end_time": "2024-10-05T17:09:27.438001",
     "exception": false,
     "start_time": "2024-10-05T17:09:27.407511",
     "status": "completed"
    },
    "tags": []
   },
   "outputs": [],
   "source": [
    "# Make sure there are no missing columns before continuing\n",
    "assert not missing_cols_train, f\"The following columns are missing in train data: {missing_cols_train}\"\n",
    "assert not missing_cols_test, f\"The following columns are missing in test data: {missing_cols_test}\""
   ]
  },
  {
   "cell_type": "code",
   "execution_count": 34,
   "id": "9ba542a5",
   "metadata": {
    "execution": {
     "iopub.execute_input": "2024-10-05T17:09:27.482133Z",
     "iopub.status.busy": "2024-10-05T17:09:27.481650Z",
     "iopub.status.idle": "2024-10-05T18:12:00.324478Z",
     "shell.execute_reply": "2024-10-05T18:12:00.323153Z"
    },
    "papermill": {
     "duration": 3752.868606,
     "end_time": "2024-10-05T18:12:00.327765",
     "exception": false,
     "start_time": "2024-10-05T17:09:27.459159",
     "status": "completed"
    },
    "tags": []
   },
   "outputs": [
    {
     "name": "stdout",
     "output_type": "stream",
     "text": [
      "\n",
      "Training a Random Forest model...\n"
     ]
    },
    {
     "name": "stderr",
     "output_type": "stream",
     "text": [
      "/opt/conda/lib/python3.10/site-packages/sklearn/preprocessing/_encoders.py:202: UserWarning: Found unknown categories in columns [0, 1, 3, 4] during transform. These unknown categories will be encoded as all zeros\n",
      "  warnings.warn(\n"
     ]
    }
   ],
   "source": [
    "# Train the model\n",
    "print(\"\\nTraining a Random Forest model...\")\n",
    "pipeline.fit(X_train, y_train)\n",
    " \n",
    "y_pred = pipeline.predict(X_val)"
   ]
  },
  {
   "cell_type": "code",
   "execution_count": 35,
   "id": "f18ed4b1",
   "metadata": {
    "execution": {
     "iopub.execute_input": "2024-10-05T18:12:00.374236Z",
     "iopub.status.busy": "2024-10-05T18:12:00.373794Z",
     "iopub.status.idle": "2024-10-05T18:12:00.383822Z",
     "shell.execute_reply": "2024-10-05T18:12:00.382422Z"
    },
    "papermill": {
     "duration": 0.036196,
     "end_time": "2024-10-05T18:12:00.386136",
     "exception": false,
     "start_time": "2024-10-05T18:12:00.349940",
     "status": "completed"
    },
    "tags": []
   },
   "outputs": [
    {
     "name": "stdout",
     "output_type": "stream",
     "text": [
      "\n",
      "Model Evaluation on Validation Set of Linear Regression:\n",
      "MSE: 7065303882.449578\n",
      "RMSE: 84055.36200891397\n",
      "R^2 Score: -0.03008119150329125\n"
     ]
    }
   ],
   "source": [
    "mse3 = mean_squared_error(y_val, y_pred)\n",
    "rmse3 = np.sqrt(mse3)\n",
    "r2_3 = r2_score(y_val, y_pred)\n",
    "\n",
    "print(f\"\\nModel Evaluation on Validation Set of Linear Regression:\")\n",
    "print(f\"MSE: {mse3}\")\n",
    "print(f\"RMSE: {rmse3}\")\n",
    "print(f\"R^2 Score: {r2_3}\")\n"
   ]
  },
  {
   "cell_type": "markdown",
   "id": "24e77dbb",
   "metadata": {
    "papermill": {
     "duration": 0.02085,
     "end_time": "2024-10-05T18:12:00.428899",
     "exception": false,
     "start_time": "2024-10-05T18:12:00.408049",
     "status": "completed"
    },
    "tags": []
   },
   "source": [
    "# **Conclusion**"
   ]
  },
  {
   "cell_type": "code",
   "execution_count": 36,
   "id": "e59e5d9d",
   "metadata": {
    "execution": {
     "iopub.execute_input": "2024-10-05T18:12:00.473983Z",
     "iopub.status.busy": "2024-10-05T18:12:00.473085Z",
     "iopub.status.idle": "2024-10-05T18:12:01.365444Z",
     "shell.execute_reply": "2024-10-05T18:12:01.364329Z"
    },
    "papermill": {
     "duration": 0.918017,
     "end_time": "2024-10-05T18:12:01.368375",
     "exception": false,
     "start_time": "2024-10-05T18:12:00.450358",
     "status": "completed"
    },
    "tags": []
   },
   "outputs": [
    {
     "data": {
      "image/png": "[encoded data removed]",
      "text/plain": [
       "<Figure size 1500x600 with 3 Axes>"
      ]
     },
     "metadata": {},
     "output_type": "display_data"
    }
   ],
   "source": [
    "# Evaluation data for each model\n",
    "model_names = ['Linear Regression', 'Decision Tree', 'Random Forest']\n",
    "mse_scores = [mse1, mse2, mse3]  \n",
    "rmse_scores = [rmse1, rmse2, rmse3]  \n",
    "r2_scores = [r2_1, r2_2, r2_3]  \n",
    "\n",
    "# Making subplot\n",
    "fig, axes = plt.subplots(1, 3, figsize=(15, 6))\n",
    "fig.suptitle('Model Performance Comparison', fontsize=10)\n",
    "\n",
    "# Plot MSE\n",
    "axes[0].bar(model_names, mse_scores)\n",
    "axes[0].set_title('MSE')\n",
    "axes[0].set_ylabel('MSE')\n",
    "\n",
    "# Plot RMSE\n",
    "axes[1].bar(model_names, rmse_scores)\n",
    "axes[1].set_title('RMSE')\n",
    "axes[1].set_ylabel('RMSE')\n",
    "\n",
    "# Plot R^2\n",
    "axes[2].bar(model_names, r2_scores)\n",
    "axes[2].set_title('R^2')\n",
    "axes[2].set_ylabel('R^2')\n",
    "\n",
    "\n",
    "plt.tight_layout()  \n",
    "plt.show()"
   ]
  },
  {
   "cell_type": "markdown",
   "id": "b3d0ecf3",
   "metadata": {
    "papermill": {
     "duration": 0.02233,
     "end_time": "2024-10-05T18:12:01.412970",
     "exception": false,
     "start_time": "2024-10-05T18:12:01.390640",
     "status": "completed"
    },
    "tags": []
   },
   "source": [
    "**Conclusion:**\n",
    "- Linear Regression performs the best in terms of both MSE and RMSE values, as it has the lowest error.\n",
    "- R² Score for Linear Regression is also the only positive score, indicating that it explains a small proportion of the variance in the target variable better than the other two models.\n",
    "- Decision Tree performs the worst, with the highest MSE and RMSE, and a negative R² score indicating poor model fit.\n",
    "- Random Forest falls in the middle but still has a negative R² score, meaning it's not performing better than a baseline model.\n",
    "\n",
    "**Best model: Linear Regression.**"
   ]
  },
  {
   "cell_type": "code",
   "execution_count": 37,
   "id": "b821a0a8",
   "metadata": {
    "execution": {
     "iopub.execute_input": "2024-10-05T18:12:01.459871Z",
     "iopub.status.busy": "2024-10-05T18:12:01.459442Z",
     "iopub.status.idle": "2024-10-05T18:12:01.827992Z",
     "shell.execute_reply": "2024-10-05T18:12:01.826942Z"
    },
    "papermill": {
     "duration": 0.395299,
     "end_time": "2024-10-05T18:12:01.830486",
     "exception": false,
     "start_time": "2024-10-05T18:12:01.435187",
     "status": "completed"
    },
    "tags": []
   },
   "outputs": [
    {
     "data": {
      "text/html": [
       "<div>\n",
       "<style scoped>\n",
       "    .dataframe tbody tr th:only-of-type {\n",
       "        vertical-align: middle;\n",
       "    }\n",
       "\n",
       "    .dataframe tbody tr th {\n",
       "        vertical-align: top;\n",
       "    }\n",
       "\n",
       "    .dataframe thead th {\n",
       "        text-align: right;\n",
       "    }\n",
       "</style>\n",
       "<table border=\"1\" class=\"dataframe\">\n",
       "  <thead>\n",
       "    <tr style=\"text-align: right;\">\n",
       "      <th></th>\n",
       "      <th>id</th>\n",
       "      <th>price</th>\n",
       "    </tr>\n",
       "  </thead>\n",
       "  <tbody>\n",
       "    <tr>\n",
       "      <th>0</th>\n",
       "      <td>188533</td>\n",
       "      <td>22443.528693</td>\n",
       "    </tr>\n",
       "    <tr>\n",
       "      <th>1</th>\n",
       "      <td>188534</td>\n",
       "      <td>71407.827231</td>\n",
       "    </tr>\n",
       "    <tr>\n",
       "      <th>4</th>\n",
       "      <td>188537</td>\n",
       "      <td>30646.477678</td>\n",
       "    </tr>\n",
       "    <tr>\n",
       "      <th>5</th>\n",
       "      <td>188538</td>\n",
       "      <td>24234.964211</td>\n",
       "    </tr>\n",
       "    <tr>\n",
       "      <th>6</th>\n",
       "      <td>188539</td>\n",
       "      <td>-6013.508626</td>\n",
       "    </tr>\n",
       "    <tr>\n",
       "      <th>...</th>\n",
       "      <td>...</td>\n",
       "      <td>...</td>\n",
       "    </tr>\n",
       "    <tr>\n",
       "      <th>125683</th>\n",
       "      <td>314216</td>\n",
       "      <td>4378.266890</td>\n",
       "    </tr>\n",
       "    <tr>\n",
       "      <th>125685</th>\n",
       "      <td>314218</td>\n",
       "      <td>32291.412988</td>\n",
       "    </tr>\n",
       "    <tr>\n",
       "      <th>125687</th>\n",
       "      <td>314220</td>\n",
       "      <td>22620.712568</td>\n",
       "    </tr>\n",
       "    <tr>\n",
       "      <th>125688</th>\n",
       "      <td>314221</td>\n",
       "      <td>15689.501046</td>\n",
       "    </tr>\n",
       "    <tr>\n",
       "      <th>125689</th>\n",
       "      <td>314222</td>\n",
       "      <td>40797.240865</td>\n",
       "    </tr>\n",
       "  </tbody>\n",
       "</table>\n",
       "<p>108459 rows × 2 columns</p>\n",
       "</div>"
      ],
      "text/plain": [
       "            id         price\n",
       "0       188533  22443.528693\n",
       "1       188534  71407.827231\n",
       "4       188537  30646.477678\n",
       "5       188538  24234.964211\n",
       "6       188539  -6013.508626\n",
       "...        ...           ...\n",
       "125683  314216   4378.266890\n",
       "125685  314218  32291.412988\n",
       "125687  314220  22620.712568\n",
       "125688  314221  15689.501046\n",
       "125689  314222  40797.240865\n",
       "\n",
       "[108459 rows x 2 columns]"
      ]
     },
     "execution_count": 37,
     "metadata": {},
     "output_type": "execute_result"
    }
   ],
   "source": [
    "comparison_df_LR = pd.DataFrame({'id': df_test['id'], 'price': y_test_pred})\n",
    "comparison_df_LR[['id', 'price']].to_csv('submission.csv', index=False)\n",
    "\n",
    "comparison_df_LR"
   ]
  },
  {
   "cell_type": "code",
   "execution_count": null,
   "id": "42747d2e",
   "metadata": {
    "papermill": {
     "duration": 0.02238,
     "end_time": "2024-10-05T18:12:01.876194",
     "exception": false,
     "start_time": "2024-10-05T18:12:01.853814",
     "status": "completed"
    },
    "tags": []
   },
   "outputs": [],
   "source": [
    " \n",
    "    "
   ]
  }
 ],
 "metadata": {
  "kaggle": {
   "accelerator": "none",
   "dataSources": [
    {
     "databundleVersionId": 9057646,
     "sourceId": 76728,
     "sourceType": "competition"
    }
   ],
   "dockerImageVersionId": 30775,
   "isGpuEnabled": false,
   "isInternetEnabled": true,
   "language": "python",
   "sourceType": "notebook"
  },
  "kernelspec": {
   "display_name": "Python 3",
   "language": "python",
   "name": "python3"
  },
  "language_info": {
   "codemirror_mode": {
    "name": "ipython",
    "version": 3
   },
   "file_extension": ".py",
   "mimetype": "text/x-python",
   "name": "python",
   "nbconvert_exporter": "python",
   "pygments_lexer": "ipython3",
   "version": "3.10.14"
  },
  "papermill": {
   "default_parameters": {},
   "duration": 4004.744927,
   "end_time": "2024-10-05T18:12:03.023561",
   "environment_variables": {},
   "exception": null,
   "input_path": "__notebook__.ipynb",
   "output_path": "__notebook__.ipynb",
   "parameters": {},
   "start_time": "2024-10-05T17:05:18.278634",
   "version": "2.6.0"
  }
 },
 "nbformat": 4,
 "nbformat_minor": 5
}
